{
 "cells": [
  {
   "cell_type": "code",
   "execution_count": 9,
   "id": "9ae6d2c2-aced-42d5-86c7-c0451d74f179",
   "metadata": {},
   "outputs": [],
   "source": [
    "from pyspark.sql import functions as F\n",
    "from pyspark.sql.window import Window\n",
    "from pyspark.sql import SparkSession\n",
    "import pandas as pd\n",
    "from datetime import date, timedelta\n",
    "from matplotlib import pyplot as plt\n",
    "import matplotlib as mpl\n",
    "\n",
    "spark = SparkSession.builder.getOrCreate()"
   ]
  },
  {
   "cell_type": "code",
   "execution_count": 10,
   "metadata": {},
   "outputs": [],
   "source": [
    "df = spark.read.csv('bank-full.csv',sep=\",\",header = True,inferSchema = True)"
   ]
  },
  {
   "cell_type": "code",
   "execution_count": 11,
   "id": "8ed8d109-da87-41bb-9bd3-3bb51b8e5db4",
   "metadata": {},
   "outputs": [
    {
     "name": "stdout",
     "output_type": "stream",
     "text": [
      "-RECORD 0---------------\n",
      " age       | 58         \n",
      " job       | management \n",
      " marital   | married    \n",
      " education | tertiary   \n",
      " default   | no         \n",
      " balance   | 2143       \n",
      " housing   | yes        \n",
      " loan      | no         \n",
      " contact   | unknown    \n",
      " day       | 5          \n",
      " month     | may        \n",
      " duration  | 261        \n",
      " campaign  | 1          \n",
      " pdays     | -1         \n",
      " previous  | 0          \n",
      " poutcome  | unknown    \n",
      " Target    | no         \n",
      "only showing top 1 row\n",
      "\n"
     ]
    }
   ],
   "source": [
    "df.show(1,vertical = True)"
   ]
  },
  {
   "cell_type": "markdown",
   "id": "34adcfd9-4a32-4012-a958-703aa452c910",
   "metadata": {},
   "source": [
    "## __Parent Class__"
   ]
  },
  {
   "cell_type": "code",
   "execution_count": 12,
   "id": "95123eb0-1188-48a6-8627-6ecd70fd71b0",
   "metadata": {},
   "outputs": [],
   "source": [
    "from abc import ABC, abstractmethod\n",
    "class QualityRule(ABC):\n",
    "    def __init__(self, df, field:str, dtype_expected:str, operator:str, threshold, values:list, min_value, max_value,\n",
    "                key, df2 , field2, key2, rule_type):\n",
    "        super().__init__()\n",
    "        self.data = df\n",
    "        self.field = field\n",
    "        self.dtype_expected = dtype_expected\n",
    "        self.operator = operator\n",
    "        self.threshold = threshold\n",
    "        self.values = values\n",
    "        self.min_value = min_value\n",
    "        self.max_value = max_value\n",
    "        self.key = key\n",
    "        self.df2 = df2\n",
    "        self.field2 = field2\n",
    "        self.key2 = key2\n",
    "        self.rule_type = rule_type\n",
    "        self.population = self._count_population()\n",
    "        self.errors_df = self._errors_df()\n",
    "        self.errors = self._count_errors()\n",
    "        self.compliance = round(((self.population - self.errors)/self.population) * 100,2)\n",
    "        \n",
    "    @abstractmethod\n",
    "    def _count_population():\n",
    "        pass\n",
    "    \n",
    "    @abstractmethod\n",
    "    def _errors_df():\n",
    "        pass\n",
    "    \n",
    "    @abstractmethod\n",
    "    def _count_errors():\n",
    "        pass"
   ]
  },
  {
   "cell_type": "markdown",
   "id": "47247bce-f690-4a1c-af52-149ba3f08761",
   "metadata": {},
   "source": [
    "## __Child Class__"
   ]
  },
  {
   "cell_type": "markdown",
   "id": "9ccd6fef-e162-4442-8dc3-f7cd85521d76",
   "metadata": {},
   "source": [
    "### R_1_1"
   ]
  },
  {
   "cell_type": "code",
   "execution_count": 13,
   "metadata": {},
   "outputs": [],
   "source": [
    "class R_1_1(QualityRule):    \n",
    "    \n",
    "    def __init__(self, df, field, dtype_expected):\n",
    "        super().__init__(df, field, dtype_expected, operator = '-', threshold = '-', values = '-', min_value = '-', max_value = '-',\n",
    "                        key = '-',df2 = '-', field2 = '-', key2 = '-', rule_type = '1.1')\n",
    "        \n",
    "    def _count_population(self):\n",
    "        return len(self.data.select(self.field).dtypes[0][1].split())\n",
    "    \n",
    "    def _errors_df(self):\n",
    "        return '-'\n",
    "        \n",
    "    def _count_errors(self):\n",
    "        if self.data.select(self.field).dtypes[0][1] == self.dtype_expected:\n",
    "            return 0\n",
    "        else:\n",
    "            return 1"
   ]
  },
  {
   "cell_type": "code",
   "execution_count": 14,
   "metadata": {},
   "outputs": [],
   "source": [
    "R11 = R_1_1(df, \"job\", \"str\")"
   ]
  },
  {
   "cell_type": "code",
   "execution_count": 15,
   "metadata": {},
   "outputs": [
    {
     "data": {
      "text/plain": [
       "'1.1'"
      ]
     },
     "execution_count": 15,
     "metadata": {},
     "output_type": "execute_result"
    }
   ],
   "source": [
    "R11.rule_type"
   ]
  },
  {
   "cell_type": "markdown",
   "metadata": {},
   "source": [
    "### R_1_2"
   ]
  },
  {
   "cell_type": "code",
   "execution_count": 16,
   "id": "c687fc2f-9a27-47a9-804e-19619c60cd08",
   "metadata": {},
   "outputs": [],
   "source": [
    "class R_1_2(QualityRule):\n",
    "\n",
    "    def __init__(self, df, field):\n",
    "        super().__init__(df, field, dtype_expected = '-', operator = '-', threshold = '-', values = '-',min_value = '-',\n",
    "                         max_value = '-',key = '-',df2 = '-', field2 = '-', key2 = '-', rule_type = '1.2')\n",
    "        \n",
    "    def _count_population(self):\n",
    "        return self.data.count()\n",
    "    \n",
    "    def _errors_df(self):\n",
    "        return self.data.filter(F.col(self.field).isNull())\n",
    "    \n",
    "    def _count_errors(self):\n",
    "        return self.errors_df.count()"
   ]
  },
  {
   "cell_type": "code",
   "execution_count": 17,
   "id": "ca69f704-d706-432a-bd17-a6884b28924e",
   "metadata": {},
   "outputs": [],
   "source": [
    "a = R_1_2(df, \"job\")"
   ]
  },
  {
   "cell_type": "code",
   "execution_count": 18,
   "id": "0251dd9a-43ee-41c7-b483-baec0067b378",
   "metadata": {},
   "outputs": [
    {
     "data": {
      "text/plain": [
       "45211"
      ]
     },
     "execution_count": 18,
     "metadata": {},
     "output_type": "execute_result"
    }
   ],
   "source": [
    "a.population"
   ]
  },
  {
   "cell_type": "markdown",
   "metadata": {},
   "source": [
    "### R_1_3_D"
   ]
  },
  {
   "cell_type": "code",
   "execution_count": 19,
   "metadata": {},
   "outputs": [],
   "source": [
    "class R_1_3_D(QualityRule):    \n",
    "    \n",
    "    def __init__(self, df, field, values):\n",
    "        super().__init__(df = df, field = field, dtype_expected = '-', operator = '-', threshold = '-',\n",
    "                         values = values, min_value = '-', max_value = '-', key = '-', df2 = '-', field2 = '-', key2 = '-', rule_type = '1.3_D')\n",
    "        \n",
    "    def _count_population(self):\n",
    "        return self.data.count()\n",
    "    \n",
    "    def _errors_df(self):\n",
    "        self.data.filter(F.col(self.field).isin(self.values))\n",
    "        \n",
    "    def _count_errors(self):\n",
    "        return self.errors_df.count()    "
   ]
  },
  {
   "cell_type": "markdown",
   "id": "1965dd92-be25-4049-8707-ebe08219d1a6",
   "metadata": {},
   "source": [
    "### R_1_3_C"
   ]
  },
  {
   "cell_type": "code",
   "execution_count": 20,
   "id": "12e2677c-e09a-4ddd-bf31-68b2c439c8a1",
   "metadata": {},
   "outputs": [],
   "source": [
    "class R_1_3_C(QualityRule):    \n",
    "    \n",
    "    def __init__(self, df, field, operator, threshold):\n",
    "        super().__init__(df = df, field = field, dtype_expected = '-', operator = operator, threshold = threshold,\n",
    "                         values = '-', min_value = '-', max_value = '-', key = '-', df2 = '-', field2 = '-', key2 = '-', rule_type = '1.3_C')\n",
    "        \n",
    "    def _count_population(self):\n",
    "        return self.data.count()\n",
    "    \n",
    "    def _errors_df(self):\n",
    "        \n",
    "        if self.operator == '<=':\n",
    "            return self.data.filter(F.col(self.field) <= self.threshold)\n",
    "        elif self.operator == '<':\n",
    "            return self.data.filter(F.col(self.field) < self.threshold)\n",
    "        elif self.operator == '>':\n",
    "            return self.data.filter(F.col(self.field) > self.threshold)\n",
    "        elif self.operator == '>=':\n",
    "            return self.data.filter(F.col(self.field) >= self.threshold)\n",
    "        elif self.operator == '==':\n",
    "            return self.data.filter(F.col(self.field) == self.threshold)\n",
    "        elif self.operator == '!=':\n",
    "            return self.data.filter(F.col(self.field) != self.threshold)\n",
    "        \n",
    "    def _count_errors(self):\n",
    "        return self.errors_df.count()    "
   ]
  },
  {
   "cell_type": "code",
   "execution_count": 22,
   "id": "a225ff78-c5ca-4711-b646-a5f723898c16",
   "metadata": {},
   "outputs": [],
   "source": [
    "d = R_1_3_C(df, \"balance\", \"<\", 0)"
   ]
  },
  {
   "cell_type": "code",
   "execution_count": 23,
   "id": "01eba255-0d5b-4608-9506-c6d42bbfdc3e",
   "metadata": {},
   "outputs": [
    {
     "data": {
      "text/plain": [
       "91.67"
      ]
     },
     "execution_count": 23,
     "metadata": {},
     "output_type": "execute_result"
    }
   ],
   "source": [
    "d.compliance"
   ]
  },
  {
   "cell_type": "markdown",
   "id": "f6e9f6f7-44c8-4168-9053-a760a4b58219",
   "metadata": {},
   "source": [
    "### R_1_4"
   ]
  },
  {
   "cell_type": "code",
   "execution_count": 24,
   "id": "4e5cd9d5-7507-43c1-94c9-133f7dd5f1bc",
   "metadata": {},
   "outputs": [],
   "source": [
    "class R_1_4(QualityRule):    \n",
    "    \n",
    "    def __init__(self, df, field:str, min_value, max_value):\n",
    "        super().__init__(df = df, field = field, dtype_expected = '-', operator = '-', threshold = '-',\n",
    "                         values = '-', min_value = min_value, max_value = max_value, key = '-', df2 = '-', field2 = '-', key2 = '-', rule_type = '1.4')\n",
    "        \n",
    "    def _count_population(self):\n",
    "        return self.data.count()\n",
    "    \n",
    "    def _errors_df(self):\n",
    "        return self.data.filter((F.col(self.field) < self.min_value) | (F.col(self.field) > self.max_value))\n",
    "        \n",
    "    def _count_errors(self):\n",
    "        return self.errors_df.count()    "
   ]
  },
  {
   "cell_type": "code",
   "execution_count": 28,
   "id": "68b5e820-9629-4f30-8273-2710f10ec699",
   "metadata": {},
   "outputs": [],
   "source": [
    "f = R_1_4(df, \"balance\", 0, 99999)"
   ]
  },
  {
   "cell_type": "code",
   "execution_count": 27,
   "id": "84d8c3d0-02a7-4163-b80d-95b10f21ac5b",
   "metadata": {},
   "outputs": [
    {
     "data": {
      "text/plain": [
       "3767"
      ]
     },
     "execution_count": 27,
     "metadata": {},
     "output_type": "execute_result"
    }
   ],
   "source": [
    "f.errors"
   ]
  },
  {
   "cell_type": "markdown",
   "id": "6e64d8bd-e6c1-490f-9d00-f843cfb25e29",
   "metadata": {},
   "source": [
    "### R_1_5_E"
   ]
  },
  {
   "cell_type": "code",
   "execution_count": 32,
   "id": "68e0955d-f73f-43aa-b146-1d2a793e3ab9",
   "metadata": {},
   "outputs": [],
   "source": [
    "class R_1_5(QualityRule):    \n",
    "    \n",
    "    def __init__(self, df, field:str, values):\n",
    "        super().__init__(df = df, field = field, dtype_expected = '-', operator = '-', threshold = '-',\n",
    "                         values = values, min_value = '-', max_value = '-', key = '-', df2 = '-', field2 = '-', key2 = '-', rule_type = '1.5')\n",
    "        \n",
    "    def _count_population(self):\n",
    "        return self.data.count()\n",
    "    \n",
    "    def _errors_df(self):\n",
    "        return self.data.filter(~F.col(self.field).isin(self.values))\n",
    "        \n",
    "    def _count_errors(self):\n",
    "        return self.errors_df.count()"
   ]
  },
  {
   "cell_type": "code",
   "execution_count": 33,
   "id": "56c0a5df-a1de-41bf-89aa-e1ba4776b9fa",
   "metadata": {},
   "outputs": [],
   "source": [
    "R15 = R_1_5(df, \"housing\", [\"yes\",\"no\"])"
   ]
  },
  {
   "cell_type": "code",
   "execution_count": 34,
   "id": "cb836f37-a541-41e2-8e8f-f7195f881a04",
   "metadata": {},
   "outputs": [
    {
     "data": {
      "text/plain": [
       "100.0"
      ]
     },
     "execution_count": 34,
     "metadata": {},
     "output_type": "execute_result"
    }
   ],
   "source": [
    "R15.compliance"
   ]
  },
  {
   "cell_type": "markdown",
   "id": "64882c9a-5b34-41bd-b4a8-b1be307afe4b",
   "metadata": {},
   "source": [
    "### R_1_6"
   ]
  },
  {
   "cell_type": "code",
   "execution_count": 37,
   "id": "861fabc3-e772-4ffd-a343-5dbb18dd66ab",
   "metadata": {},
   "outputs": [],
   "source": [
    "class R_1_6(QualityRule):    \n",
    "    \n",
    "    def __init__(self, df, field:str):\n",
    "        super().__init__(df = df, field = field, dtype_expected = '-', operator = '-', threshold = '-',\n",
    "                         values = '-', min_value = '-', max_value = '-', key = '-', df2 = '-', field2 = '-', key2 = '-', rule_type = '1.6')\n",
    "        \n",
    "    def _count_population(self):\n",
    "        return self.data.count()\n",
    "    \n",
    "    def _errors_df(self):\n",
    "        return self.data.withColumn('blanks', F.length(F.regexp_replace(self.field, '[^ ]+', ''))).filter(F.col('blanks')!= 0)\n",
    "        \n",
    "    def _count_errors(self):\n",
    "        return self.errors_df.count()    "
   ]
  },
  {
   "cell_type": "code",
   "execution_count": 38,
   "id": "3560d5fa-0c75-45cc-911b-d27ba3cd90c1",
   "metadata": {},
   "outputs": [],
   "source": [
    "R16 = R_1_6(df,'marital')"
   ]
  },
  {
   "cell_type": "code",
   "execution_count": 39,
   "id": "3829433d-9610-4f80-951b-e8c0acf204ca",
   "metadata": {},
   "outputs": [
    {
     "data": {
      "text/plain": [
       "0"
      ]
     },
     "execution_count": 39,
     "metadata": {},
     "output_type": "execute_result"
    }
   ],
   "source": [
    "R16.errors"
   ]
  },
  {
   "cell_type": "markdown",
   "id": "28d61123-bdcf-4284-b86f-315d3875b129",
   "metadata": {},
   "source": [
    "### R_1_7"
   ]
  },
  {
   "cell_type": "code",
   "execution_count": 41,
   "id": "4696eea4-e7de-41be-bda9-4a66a734adcf",
   "metadata": {},
   "outputs": [],
   "source": [
    "class R_1_7(QualityRule):\n",
    "    \n",
    "    def __init__(self, df, field):\n",
    "        super().__init__(df, field, dtype_expected='-', operator = '-', threshold = '-', values = '-', min_value = '-', max_value = '-',\n",
    "                        key = '-',df2 = '-', field2 = '-', key2 = '-', rule_type = '1.7')\n",
    "        \n",
    "    def _count_population(self):\n",
    "        return self.data.count()\n",
    "    \n",
    "    def _errors_df(self):\n",
    "        return self.data.select(self.field).groupBy(self.field).count().withColumn('errores',F.col('count')-1)\n",
    "    \n",
    "    def _count_errors(self):\n",
    "        return self.errors_df.select(F.sum('errores')).collect()[0][0]"
   ]
  },
  {
   "cell_type": "code",
   "execution_count": 42,
   "id": "2dc2f94d-f78c-4f0b-8635-19a9c95d1d06",
   "metadata": {},
   "outputs": [],
   "source": [
    "R17 = R_1_7(df, \"age\")"
   ]
  },
  {
   "cell_type": "code",
   "execution_count": 43,
   "id": "29105c42-6253-4fb9-b810-471b76ce95b8",
   "metadata": {},
   "outputs": [
    {
     "data": {
      "text/plain": [
       "45134"
      ]
     },
     "execution_count": 43,
     "metadata": {},
     "output_type": "execute_result"
    }
   ],
   "source": [
    "R17.errors"
   ]
  },
  {
   "cell_type": "markdown",
   "metadata": {},
   "source": [
    "# Funciones"
   ]
  },
  {
   "cell_type": "code",
   "execution_count": null,
   "metadata": {},
   "outputs": [],
   "source": [
    "def finish_report(container: pd.DataFrame):\n",
    "        reporte_df = (spark\n",
    "                      .createDataFrame(container)\n",
    "                      .withColumn('ID', F.monotonically_increasing_id())\n",
    "                      .withColumn('ID_order', F.row_number().over(Window.orderBy('ID')))\n",
    "                      .withColumn('OKs', F.col('Poblacion')-F.col('Errores'))\n",
    "                      .select('ID_order', 'Field','Secondary_Field','Object', 'Rule_Type', 'Population', 'OKs', 'Errors', 'Compliance'))\n",
    "        return reporte_df"
   ]
  },
  {
   "cell_type": "code",
   "execution_count": null,
   "metadata": {},
   "outputs": [],
   "source": [
    "def plot_report(reporte_df: pd.DataFrame):\n",
    "    \n",
    "    fig, ax = plt.subplots(figsize=(15,8), facecolor=(.94, .94, .94))\n",
    "\n",
    "    reglas = reporte_df.select('ID_order').rdd.flatMap(lambda x:x).collect()\n",
    "    cumplimiento = reporte_df.select('Compliance').rdd.flatMap(lambda x:x).collect()\n",
    "\n",
    "    cols = ['red' if x < 90 else 'green' if x > 90 else 'yellow' for x in cumplimiento]\n",
    "    bars = ax.barh(reglas,cumplimiento, color = cols, align='center')\n",
    "    plt.axvline(x = 90, color = 'red', ls='--')\n",
    "    plt.axvline(x = 95, color = 'yellow', ls='--')\n",
    "    \n",
    "    ax.set_facecolor('#eafff5')\n",
    "    #etiqueta de barras\n",
    "    ax.bar_label(bars, fmt= '{:,.2f}%', label_type ='center', color = 'white')\n",
    "    #Formato de eje y\n",
    "    ax.xaxis.set_major_formatter(mpl.ticker.StrMethodFormatter('{x:,.0f}%'))\n",
    "    #Etiquetas de ejes\n",
    "    ax.set(ylabel='ID Rule', xlabel = 'Compliance')\n",
    "    #Titulo\n",
    "    title = plt.title('Quality Rules Results',fontsize=18,pad=20)\n",
    "    title.set_position([.12, 1])\n",
    "    plt.show()"
   ]
  },
  {
   "cell_type": "code",
   "execution_count": null,
   "metadata": {},
   "outputs": [],
   "source": [
    "def compliance(df: pd.DataFrame , by = 'Total'): \n",
    "    \n",
    "    print(' Cantidad de Reglas: ', df.count(),'\\n',\n",
    "          'Cantidad de objetos: ', df.select('Object').distinct().count(),'\\n',\n",
    "          'Cantidad de campos: ', df.select('Field').distinct().count(),'\\n',\n",
    "          'Reglas por campo: ',round(df.count() / df.select('Field').distinct().count(),2),'\\n',\n",
    "          'Reglas por objeto: ',round(df.count() / df.select('Object').distinct().count()),2,'\\n')\n",
    "      \n",
    "    if by == 'Total':\n",
    "        return print('% de Cumplimiento Total: ', df.select(F.round(F.avg('Compliance'),2)).collect()[0][0])\n",
    "    \n",
    "    elif by == 'Objects':\n",
    "        obj_cump = df.select('Object','Compliance').groupBy('Object').agg(F.round(F.avg('Compliance'),2).alias('mean'))\n",
    "        objects = obj_cump.select('Object').rdd.flatMap(lambda x:x).collect()\n",
    "        cump = obj_cump.select('mean').rdd.flatMap(lambda x:x).collect()\n",
    "        for i,j in zip(objects, cump):\n",
    "            print('% de Cumplimiento -', i,':', j)\n",
    "            \n",
    "    elif by == 'Fields':\n",
    "        fields_cump = df.select('Field','Compliance').groupBy('Field').agg(F.round(F.avg('Compliance'),2).alias('mean'))\n",
    "        fields = fields_cump.select('Field').rdd.flatMap(lambda x:x).collect()\n",
    "        cump = fields_cump.select('mean').rdd.flatMap(lambda x:x).collect()\n",
    "        for i,j in zip(fields, cump):\n",
    "            print('% de Cumplimiento -', i,':', j)"
   ]
  }
 ],
 "metadata": {
  "kernelspec": {
   "display_name": "Python 3",
   "language": "python",
   "name": "python3"
  },
  "language_info": {
   "codemirror_mode": {
    "name": "ipython",
    "version": 3
   },
   "file_extension": ".py",
   "mimetype": "text/x-python",
   "name": "python",
   "nbconvert_exporter": "python",
   "pygments_lexer": "ipython3",
   "version": "3.10.5"
  }
 },
 "nbformat": 4,
 "nbformat_minor": 5
}
