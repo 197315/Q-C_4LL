{
 "cells": [
  {
   "cell_type": "code",
   "execution_count": 4,
   "id": "9ae6d2c2-aced-42d5-86c7-c0451d74f179",
   "metadata": {},
   "outputs": [],
   "source": [
    "from pyspark.sql import functions as F\n",
    "from pyspark.sql.window import Window\n",
    "from pyspark.sql import SparkSession\n",
    "import pandas as pd\n",
    "from datetime import date, timedelta\n",
    "from matplotlib import pyplot as plt\n",
    "import matplotlib as mpl"
   ]
  },
  {
   "cell_type": "code",
   "execution_count": 5,
   "metadata": {},
   "outputs": [
    {
     "ename": "NameError",
     "evalue": "name 'spark' is not defined",
     "output_type": "error",
     "traceback": [
      "\u001b[1;31m---------------------------------------------------------------------------\u001b[0m",
      "\u001b[1;31mNameError\u001b[0m                                 Traceback (most recent call last)",
      "\u001b[1;32mg:\\Mi unidad\\DATA\\PySpark\\QR_4LL\\Q-C_4LL\\Classes.ipynb Cell 2\u001b[0m line \u001b[0;36m<cell line: 1>\u001b[1;34m()\u001b[0m\n\u001b[1;32m----> <a href='vscode-notebook-cell:/g%3A/Mi%20unidad/DATA/PySpark/QR_4LL/Q-C_4LL/Classes.ipynb#X60sZmlsZQ%3D%3D?line=0'>1</a>\u001b[0m df \u001b[39m=\u001b[39m spark\u001b[39m.\u001b[39mread\u001b[39m.\u001b[39mcsv(\u001b[39m'\u001b[39m\u001b[39mbank-full.csv\u001b[39m\u001b[39m'\u001b[39m,sep\u001b[39m=\u001b[39m\u001b[39m\"\u001b[39m\u001b[39m,\u001b[39m\u001b[39m\"\u001b[39m,header \u001b[39m=\u001b[39m \u001b[39mTrue\u001b[39;00m,inferSchema \u001b[39m=\u001b[39m \u001b[39mTrue\u001b[39;00m)\n",
      "\u001b[1;31mNameError\u001b[0m: name 'spark' is not defined"
     ]
    }
   ],
   "source": [
    "df = spark.read.csv('bank-full.csv',sep=\",\",header = True,inferSchema = True)"
   ]
  },
  {
   "cell_type": "code",
   "execution_count": 3,
   "id": "929e53ff-be53-4b9d-85e5-98534364f4de",
   "metadata": {},
   "outputs": [
    {
     "ename": "NameError",
     "evalue": "name 'spark' is not defined",
     "output_type": "error",
     "traceback": [
      "\u001b[1;31m---------------------------------------------------------------------------\u001b[0m",
      "\u001b[1;31mNameError\u001b[0m                                 Traceback (most recent call last)",
      "\u001b[1;32mg:\\Mi unidad\\DATA\\PySpark\\QR_4LL\\Q-C_4LL\\Classes.ipynb Cell 2\u001b[0m line \u001b[0;36m<cell line: 1>\u001b[1;34m()\u001b[0m\n\u001b[1;32m----> <a href='vscode-notebook-cell:/g%3A/Mi%20unidad/DATA/PySpark/QR_4LL/Q-C_4LL/Classes.ipynb#W1sZmlsZQ%3D%3D?line=0'>1</a>\u001b[0m df \u001b[39m=\u001b[39m spark\u001b[39m.\u001b[39mread\u001b[39m.\u001b[39mcsv(\u001b[39m'\u001b[39m\u001b[39mbank-full.csv\u001b[39m\u001b[39m'\u001b[39m,sep\u001b[39m=\u001b[39m\u001b[39m\"\u001b[39m\u001b[39m,\u001b[39m\u001b[39m\"\u001b[39m,header \u001b[39m=\u001b[39m \u001b[39mTrue\u001b[39;00m,inferSchema \u001b[39m=\u001b[39m \u001b[39mTrue\u001b[39;00m)\n",
      "\u001b[1;31mNameError\u001b[0m: name 'spark' is not defined"
     ]
    }
   ],
   "source": [
    "df = spark.read.csv('bank-full.csv',sep=\",\",header = True,inferSchema = True)"
   ]
  },
  {
   "cell_type": "code",
   "execution_count": 1,
   "id": "8ed8d109-da87-41bb-9bd3-3bb51b8e5db4",
   "metadata": {},
   "outputs": [
    {
     "ename": "NameError",
     "evalue": "name 'df' is not defined",
     "output_type": "error",
     "traceback": [
      "\u001b[1;31m---------------------------------------------------------------------------\u001b[0m",
      "\u001b[1;31mNameError\u001b[0m                                 Traceback (most recent call last)",
      "\u001b[1;32mg:\\Mi unidad\\DATA\\PySpark\\QR_4LL\\Q-C_4LL\\Classes.ipynb Cell 3\u001b[0m line \u001b[0;36m<cell line: 1>\u001b[1;34m()\u001b[0m\n\u001b[1;32m----> <a href='vscode-notebook-cell:/g%3A/Mi%20unidad/DATA/PySpark/QR_4LL/Q-C_4LL/Classes.ipynb#W2sZmlsZQ%3D%3D?line=0'>1</a>\u001b[0m df\u001b[39m.\u001b[39mshow(\u001b[39m1\u001b[39m,vertical \u001b[39m=\u001b[39m \u001b[39mTrue\u001b[39;00m)\n",
      "\u001b[1;31mNameError\u001b[0m: name 'df' is not defined"
     ]
    }
   ],
   "source": [
    "df.show(1,vertical = True)"
   ]
  },
  {
   "cell_type": "markdown",
   "id": "34adcfd9-4a32-4012-a958-703aa452c910",
   "metadata": {},
   "source": [
    "## __Parent Class__"
   ]
  },
  {
   "cell_type": "code",
   "execution_count": 149,
   "id": "95123eb0-1188-48a6-8627-6ecd70fd71b0",
   "metadata": {},
   "outputs": [],
   "source": [
    "from abc import ABC, abstractmethod\n",
    "class QualityRule(ABC):\n",
    "    def __init__(self, df, field:str, dtype_expected:str, operator:str, threshold, values:list, min_value, max_value,\n",
    "                key, df2 , field2, key2):\n",
    "        super().__init__()\n",
    "        self.data = df\n",
    "        self.field = field\n",
    "        self.dtype_expected = dtype_expected\n",
    "        self.operator = operator\n",
    "        self.threshold = threshold\n",
    "        self.values = values\n",
    "        self.min_value = min_value\n",
    "        self.max_value = max_value\n",
    "        self.key = key\n",
    "        self.df2 = df2\n",
    "        self.field2 = field2\n",
    "        self.key2 = key2\n",
    "        self.population = self._count_population()\n",
    "        self.errors_df = self._errors_df()\n",
    "        self.errors = self._count_errors()\n",
    "        self.compliance = round(((self.population - self.errors)/self.population) * 100,2)\n",
    "        \n",
    "    @abstractmethod\n",
    "    def _count_population():\n",
    "        pass\n",
    "    \n",
    "    @abstractmethod\n",
    "    def _errors_df():\n",
    "        pass\n",
    "    \n",
    "    @abstractmethod\n",
    "    def _count_errors():\n",
    "        pass"
   ]
  },
  {
   "cell_type": "markdown",
   "id": "47247bce-f690-4a1c-af52-149ba3f08761",
   "metadata": {},
   "source": [
    "## __Child Class__"
   ]
  },
  {
   "cell_type": "markdown",
   "id": "9ccd6fef-e162-4442-8dc3-f7cd85521d76",
   "metadata": {},
   "source": [
    "### V_3_1"
   ]
  },
  {
   "cell_type": "code",
   "execution_count": 56,
   "id": "c687fc2f-9a27-47a9-804e-19619c60cd08",
   "metadata": {},
   "outputs": [],
   "source": [
    "class V_3_1(QualityRule):\n",
    "\n",
    "    def __init__(self, df, field):\n",
    "         super().__init__(df, field, dtype_expected = '', operator = '', threshold = '', values = '',min_value = '', max_value = '',\n",
    "                         key = '',df2 = '', field2 = '', key2 = '')\n",
    "        \n",
    "    def _count_population(self):\n",
    "        return self.data.count()\n",
    "    \n",
    "    def _errors_df(self):\n",
    "        return self.data.filter(F.col(self.field).isNull())\n",
    "    \n",
    "    def _count_errors(self):\n",
    "        return self.errors_df.count()"
   ]
  },
  {
   "cell_type": "code",
   "execution_count": 57,
   "id": "ca69f704-d706-432a-bd17-a6884b28924e",
   "metadata": {},
   "outputs": [],
   "source": [
    "a = V_3_1(gregorian, \"day_of_week_id\")"
   ]
  },
  {
   "cell_type": "code",
   "execution_count": 58,
   "id": "0251dd9a-43ee-41c7-b483-baec0067b378",
   "metadata": {},
   "outputs": [
    {
     "data": {
      "text/plain": [
       "73414"
      ]
     },
     "execution_count": 58,
     "metadata": {},
     "output_type": "execute_result"
    }
   ],
   "source": [
    "a.population"
   ]
  },
  {
   "cell_type": "markdown",
   "id": "7f9dc1b4-84ff-47f9-9986-36e5d1f9da1f",
   "metadata": {},
   "source": [
    "### V_3_2"
   ]
  },
  {
   "cell_type": "code",
   "execution_count": 59,
   "id": "0f864da2-5e1d-4d1e-9675-fe18e31c11b4",
   "metadata": {},
   "outputs": [],
   "source": [
    "class V_3_2(QualityRule):    \n",
    "    \n",
    "    def __init__(self, df, field, dtype_expected):\n",
    "        super().__init__(df, field, dtype_expected, operator = '', threshold = '', values = '', min_value = '', max_value = '',\n",
    "                        key = '',df2 = '', field2 = '', key2 = '')\n",
    "        \n",
    "    def _count_population(self):\n",
    "        return len(self.data.select(self.field).dtypes[0][1].split())\n",
    "    \n",
    "    def _errors_df(self):\n",
    "        return '-'\n",
    "        \n",
    "    def _count_errors(self):\n",
    "        if self.data.select(self.field).dtypes[0][1] == self.dtype_expected:\n",
    "            return 0\n",
    "        else:\n",
    "            return 1"
   ]
  },
  {
   "cell_type": "code",
   "execution_count": 76,
   "id": "67b839cc-e899-4046-8c2c-2ec5a96d19e2",
   "metadata": {},
   "outputs": [],
   "source": [
    "b = V_3_2(gregorian, \"day_of_week_id\", \"int\")"
   ]
  },
  {
   "cell_type": "code",
   "execution_count": 77,
   "id": "a9ec2487-2366-4c92-8a92-e7ae04bfb0c8",
   "metadata": {},
   "outputs": [
    {
     "data": {
      "text/plain": [
       "0"
      ]
     },
     "execution_count": 77,
     "metadata": {},
     "output_type": "execute_result"
    }
   ],
   "source": [
    "b.errors"
   ]
  },
  {
   "cell_type": "markdown",
   "id": "46804c54-fac1-47a7-825a-94f6cefe7de4",
   "metadata": {},
   "source": [
    "### V_3_3"
   ]
  },
  {
   "cell_type": "markdown",
   "id": "1965dd92-be25-4049-8707-ebe08219d1a6",
   "metadata": {},
   "source": [
    "#### V_3_3_C"
   ]
  },
  {
   "cell_type": "code",
   "execution_count": 62,
   "id": "12e2677c-e09a-4ddd-bf31-68b2c439c8a1",
   "metadata": {},
   "outputs": [],
   "source": [
    "class V_3_3_C(QualityRule):    \n",
    "    \n",
    "    def __init__(self, df, field, operator, threshold):\n",
    "        super().__init__(df = df, field = field, dtype_expected = '', operator = operator, threshold = threshold,\n",
    "                         values = '', min_value = '', max_value = '', key = '', df2 = '', field2 = '', key2 = '')\n",
    "        \n",
    "    def _count_population(self):\n",
    "        return self.data.count()\n",
    "    \n",
    "    def _errors_df(self):\n",
    "        \n",
    "        if self.operator == '<=':\n",
    "            return self.data.filter(F.col(self.field) <= self.threshold)\n",
    "        elif self.operator == '<':\n",
    "            return self.data.filter(F.col(self.field) < self.threshold)\n",
    "        elif self.operator == '>':\n",
    "            return self.data.filter(F.col(self.field) > self.threshold)\n",
    "        elif self.operator == '>=':\n",
    "            return self.data.filter(F.col(self.field) >= self.threshold)\n",
    "        elif self.operator == '==':\n",
    "            return self.data.filter(F.col(self.field) == self.threshold)\n",
    "        elif self.operator == '!=':\n",
    "            return self.data.filter(F.col(self.field) != self.threshold)\n",
    "        \n",
    "    def _count_errors(self):\n",
    "        return self.errors_df.count()    "
   ]
  },
  {
   "cell_type": "code",
   "execution_count": 63,
   "id": "a225ff78-c5ca-4711-b646-a5f723898c16",
   "metadata": {},
   "outputs": [],
   "source": [
    "d = V_3_3_C(trans, \"debit_card_trans_event_amount\", \"<\", 0)"
   ]
  },
  {
   "cell_type": "code",
   "execution_count": 64,
   "id": "01eba255-0d5b-4608-9506-c6d42bbfdc3e",
   "metadata": {},
   "outputs": [
    {
     "data": {
      "text/plain": [
       "100.0"
      ]
     },
     "execution_count": 64,
     "metadata": {},
     "output_type": "execute_result"
    }
   ],
   "source": [
    "d.compliance"
   ]
  },
  {
   "cell_type": "markdown",
   "id": "5af8feac-521c-4a9f-a9bb-468dac63e6b1",
   "metadata": {},
   "source": [
    "#### V_3_3_D"
   ]
  },
  {
   "cell_type": "code",
   "execution_count": 68,
   "id": "315cf2b4-7483-4153-81ef-ad5a996c4b43",
   "metadata": {},
   "outputs": [],
   "source": [
    "class V_3_3_D(QualityRule):    \n",
    "    \n",
    "    def __init__(self, df, field:str, values:list):\n",
    "        super().__init__(df = df, field = field, dtype_expected = '', operator = '', threshold = '', values = values,\n",
    "                         min_value = '', max_value = '', key = '', df2 = '', field2 = '', key2 = '')\n",
    "        \n",
    "    def _count_population(self):\n",
    "        return self.data.count()\n",
    "    \n",
    "    def _errors_df(self):\n",
    "        return self.data.filter(F.col(self.field).isin(self.values))\n",
    "        \n",
    "    def _count_errors(self):\n",
    "        return self.errors_df.count()    "
   ]
  },
  {
   "cell_type": "code",
   "execution_count": 69,
   "id": "719a2807-d673-4be0-9b11-bcd5d48c80bf",
   "metadata": {},
   "outputs": [],
   "source": [
    "e = V_3_3_D(trans, \"debit_card_type\", [2])"
   ]
  },
  {
   "cell_type": "code",
   "execution_count": 74,
   "id": "a501f5d8-67da-432d-826d-d95dbd256e3c",
   "metadata": {},
   "outputs": [
    {
     "data": {
      "text/plain": [
       "1559641"
      ]
     },
     "execution_count": 74,
     "metadata": {},
     "output_type": "execute_result"
    }
   ],
   "source": [
    "e.errors"
   ]
  },
  {
   "cell_type": "markdown",
   "id": "f6e9f6f7-44c8-4168-9053-a760a4b58219",
   "metadata": {},
   "source": [
    "### V_3_4"
   ]
  },
  {
   "cell_type": "code",
   "execution_count": 93,
   "id": "4e5cd9d5-7507-43c1-94c9-133f7dd5f1bc",
   "metadata": {},
   "outputs": [],
   "source": [
    "class V_3_4(QualityRule):    \n",
    "    \n",
    "    def __init__(self, df, field:str, min_value, max_value):\n",
    "        super().__init__(df = df, field = field, dtype_expected = '', operator = '', threshold = '',\n",
    "                         values = '', min_value = min_value, max_value = max_value, key = '', df2 = '', field2 = '', key2 = '')\n",
    "        \n",
    "    def _count_population(self):\n",
    "        return self.data.count()\n",
    "    \n",
    "    def _errors_df(self):\n",
    "        return self.data.filter((F.col(self.field) < self.min_value) | (F.col(self.field) > self.max_value))\n",
    "        \n",
    "    def _count_errors(self):\n",
    "        return self.errors_df.count()    "
   ]
  },
  {
   "cell_type": "code",
   "execution_count": 94,
   "id": "68b5e820-9629-4f30-8273-2710f10ec699",
   "metadata": {},
   "outputs": [],
   "source": [
    "f = V_3_4(trans, \"debit_card_type\", 1,5)"
   ]
  },
  {
   "cell_type": "code",
   "execution_count": 96,
   "id": "84d8c3d0-02a7-4163-b80d-95b10f21ac5b",
   "metadata": {},
   "outputs": [
    {
     "data": {
      "text/plain": [
       "119210"
      ]
     },
     "execution_count": 96,
     "metadata": {},
     "output_type": "execute_result"
    }
   ],
   "source": [
    "f.errors"
   ]
  },
  {
   "cell_type": "markdown",
   "id": "f3ba4c1b-9430-4487-b75c-aa5aaa4aabde",
   "metadata": {},
   "source": [
    "### V_3_5"
   ]
  },
  {
   "cell_type": "markdown",
   "id": "6e64d8bd-e6c1-490f-9d00-f843cfb25e29",
   "metadata": {},
   "source": [
    "#### V_3_5_E"
   ]
  },
  {
   "cell_type": "code",
   "execution_count": 105,
   "id": "68e0955d-f73f-43aa-b146-1d2a793e3ab9",
   "metadata": {},
   "outputs": [],
   "source": [
    "class V_3_5_E(QualityRule):    \n",
    "    \n",
    "    def __init__(self, df, field:str, values):\n",
    "        super().__init__(df = df, field = field, dtype_expected = '', operator = '', threshold = '',\n",
    "                         values = values, min_value = '', max_value = '', key = '', df2 = '', field2 = '', key2 = '')\n",
    "        \n",
    "    def _count_population(self):\n",
    "        return self.data.count()\n",
    "    \n",
    "    def _errors_df(self):\n",
    "        return self.data.filter(~F.col(self.field).isin(self.values))\n",
    "        \n",
    "    def _count_errors(self):\n",
    "        return self.errors_df.count()    "
   ]
  },
  {
   "cell_type": "code",
   "execution_count": 106,
   "id": "56c0a5df-a1de-41bf-89aa-e1ba4776b9fa",
   "metadata": {},
   "outputs": [],
   "source": [
    "V35E = V_3_5_E(trans, \"currency_id\", [\"ARS\",\"USD\"])"
   ]
  },
  {
   "cell_type": "code",
   "execution_count": 108,
   "id": "cb836f37-a541-41e2-8e8f-f7195f881a04",
   "metadata": {},
   "outputs": [
    {
     "data": {
      "text/plain": [
       "89.12"
      ]
     },
     "execution_count": 108,
     "metadata": {},
     "output_type": "execute_result"
    }
   ],
   "source": [
    "V35E.compliance"
   ]
  },
  {
   "cell_type": "markdown",
   "id": "64882c9a-5b34-41bd-b4a8-b1be307afe4b",
   "metadata": {},
   "source": [
    "### V_3_6"
   ]
  },
  {
   "cell_type": "code",
   "execution_count": 136,
   "id": "861fabc3-e772-4ffd-a343-5dbb18dd66ab",
   "metadata": {},
   "outputs": [],
   "source": [
    "class V_3_6(QualityRule):    \n",
    "    \n",
    "    def __init__(self, df, field:str):\n",
    "        super().__init__(df = df, field = field, dtype_expected = '', operator = '', threshold = '',\n",
    "                         values = '', min_value = '', max_value = '', key = '', df2 = '', field2 = '', key2 = '')\n",
    "        \n",
    "    def _count_population(self):\n",
    "        return self.data.count()\n",
    "    \n",
    "    def _errors_df(self):\n",
    "        return self.data.withColumn('blanks', F.length(F.regexp_replace(self.field, '[^ ]+', ''))).filter(F.col('blanks')!= 0)\n",
    "        \n",
    "    def _count_errors(self):\n",
    "        return self.errors_df.count()    "
   ]
  },
  {
   "cell_type": "code",
   "execution_count": 137,
   "id": "3560d5fa-0c75-45cc-911b-d27ba3cd90c1",
   "metadata": {},
   "outputs": [],
   "source": [
    "V36 = V_3_6(trans,'currency_id')"
   ]
  },
  {
   "cell_type": "code",
   "execution_count": 141,
   "id": "3829433d-9610-4f80-951b-e8c0acf204ca",
   "metadata": {},
   "outputs": [
    {
     "data": {
      "text/plain": [
       "0"
      ]
     },
     "execution_count": 141,
     "metadata": {},
     "output_type": "execute_result"
    }
   ],
   "source": [
    "V36.errors"
   ]
  },
  {
   "cell_type": "markdown",
   "id": "28d61123-bdcf-4284-b86f-315d3875b129",
   "metadata": {},
   "source": [
    "### C_4_2"
   ]
  },
  {
   "cell_type": "code",
   "execution_count": 142,
   "id": "4696eea4-e7de-41be-bda9-4a66a734adcf",
   "metadata": {},
   "outputs": [],
   "source": [
    "class C_4_2(QualityRule):\n",
    "    \n",
    "    def __init__(self, df, field):\n",
    "        super().__init__(df, field, dtype_expected='', operator = '', threshold = '', values = '', min_value = '', max_value = '',\n",
    "                        key = '',df2 = '', field2 = '', key2 = '')\n",
    "        \n",
    "    def _count_population(self):\n",
    "        return self.data.count()\n",
    "    \n",
    "    def _errors_df(self):\n",
    "        return self.data.select(self.field).groupBy(self.field).count().withColumn('errores',F.col('count')-1)\n",
    "    \n",
    "    def _count_errors(self):\n",
    "        return self.errors_df.select(F.sum('errores')).collect()[0][0]"
   ]
  },
  {
   "cell_type": "code",
   "execution_count": 143,
   "id": "2dc2f94d-f78c-4f0b-8635-19a9c95d1d06",
   "metadata": {},
   "outputs": [],
   "source": [
    "C42 = C_4_2(gregorian, \"day_of_week_id\")"
   ]
  },
  {
   "cell_type": "code",
   "execution_count": 144,
   "id": "29105c42-6253-4fb9-b810-471b76ce95b8",
   "metadata": {},
   "outputs": [
    {
     "data": {
      "text/plain": [
       "73407"
      ]
     },
     "execution_count": 144,
     "metadata": {},
     "output_type": "execute_result"
    }
   ],
   "source": [
    "C42.errors"
   ]
  },
  {
   "cell_type": "code",
   "execution_count": 152,
   "id": "2ef283cd-d763-4319-9788-2f6c6c64c4f1",
   "metadata": {},
   "outputs": [],
   "source": [
    "class C_4_3(QualityRule):\n",
    "    \n",
    "    def __init__(self, df, field, key, df2, field2, key2):\n",
    "        super().__init__(df, field, dtype_expected='', operator = '', threshold = '', values = '', min_value = '', max_value = '',\n",
    "                        key = key, df2 = df2, field2 = field2, key2 = key2)\n",
    "        \n",
    "    def _count_population(self):\n",
    "        return self.data.count()\n",
    "    \n",
    "    def _errors_df(self):\n",
    "        return self.data.filter( F.col(self.field1+'_1') != F.col(self.field1+'_2')).count()\n",
    "    \n",
    "    def _count_errors(self):\n",
    "        return self.errors_df.count()"
   ]
  },
  {
   "cell_type": "code",
   "execution_count": null,
   "id": "11da7da4-a1b3-4f4b-b77c-19edf0207a9f",
   "metadata": {},
   "outputs": [],
   "source": [
    "C43 = C_4_3()"
   ]
  }
 ],
 "metadata": {
  "kernelspec": {
   "display_name": "Python 3",
   "language": "python",
   "name": "python3"
  },
  "language_info": {
   "codemirror_mode": {
    "name": "ipython",
    "version": 3
   },
   "file_extension": ".py",
   "mimetype": "text/x-python",
   "name": "python",
   "nbconvert_exporter": "python",
   "pygments_lexer": "ipython3",
   "version": "3.10.5"
  }
 },
 "nbformat": 4,
 "nbformat_minor": 5
}
