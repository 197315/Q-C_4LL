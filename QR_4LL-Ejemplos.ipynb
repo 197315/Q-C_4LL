{
 "cells": [
  {
   "cell_type": "markdown",
   "metadata": {},
   "source": [
    "# QR_4LL"
   ]
  },
  {
   "cell_type": "markdown",
   "metadata": {},
   "source": [
    "<br> __Author:__ Marcelo Gabriel Gonzalez\n",
    "<br> __Email:__ marcelo.g.gonzalez95@gmail.com"
   ]
  },
  {
   "cell_type": "code",
   "execution_count": 25,
   "id": "9ae6d2c2-aced-42d5-86c7-c0451d74f179",
   "metadata": {},
   "outputs": [],
   "source": [
    "from pyspark.sql import functions as F\n",
    "from pyspark.sql import SparkSession\n",
    "import sys\n",
    "#import pandas as pd\n",
    "#from matplotlib import pyplot as plt\n",
    "#import matplotlib as mpl\n",
    "spark = SparkSession.builder.getOrCreate()"
   ]
  },
  {
   "cell_type": "code",
   "execution_count": 26,
   "metadata": {},
   "outputs": [],
   "source": [
    "%run \"G:\\Mi unidad\\DATA\\PySpark\\QR_4LL\\Q-C_4LL\\QR_4LL-Classes.ipynb\""
   ]
  },
  {
   "cell_type": "code",
   "execution_count": 27,
   "metadata": {},
   "outputs": [],
   "source": [
    "df = spark.read.csv('bank-full.csv',sep=\",\",header = True,inferSchema = True)"
   ]
  },
  {
   "cell_type": "code",
   "execution_count": 28,
   "id": "8ed8d109-da87-41bb-9bd3-3bb51b8e5db4",
   "metadata": {},
   "outputs": [
    {
     "name": "stdout",
     "output_type": "stream",
     "text": [
      "-RECORD 0---------------\n",
      " age       | 58         \n",
      " job       | management \n",
      " marital   | married    \n",
      " education | tertiary   \n",
      " default   | no         \n",
      " balance   | 2143       \n",
      " housing   | yes        \n",
      " loan      | no         \n",
      " contact   | unknown    \n",
      " day       | 5          \n",
      " month     | may        \n",
      " duration  | 261        \n",
      " campaign  | 1          \n",
      " pdays     | -1         \n",
      " previous  | 0          \n",
      " poutcome  | unknown    \n",
      " Target    | no         \n",
      "only showing top 1 row\n",
      "\n"
     ]
    }
   ],
   "source": [
    "df.show(1,vertical = True)"
   ]
  },
  {
   "cell_type": "markdown",
   "metadata": {},
   "source": [
    "## Example"
   ]
  },
  {
   "cell_type": "markdown",
   "metadata": {},
   "source": [
    "### Individual execution"
   ]
  },
  {
   "cell_type": "code",
   "execution_count": 29,
   "metadata": {},
   "outputs": [
    {
     "data": {
      "text/plain": [
       "100.0"
      ]
     },
     "execution_count": 29,
     "metadata": {},
     "output_type": "execute_result"
    }
   ],
   "source": [
    "a = R_1_2(df, \"job\")\n",
    "a.compliance"
   ]
  },
  {
   "cell_type": "markdown",
   "metadata": {},
   "source": [
    "### Execution in for loop"
   ]
  },
  {
   "cell_type": "code",
   "execution_count": 30,
   "metadata": {},
   "outputs": [
    {
     "name": "stdout",
     "output_type": "stream",
     "text": [
      "age : 100.0\n",
      "job : 100.0\n",
      "marital : 100.0\n",
      "education : 100.0\n",
      "default : 100.0\n",
      "balance : 100.0\n",
      "housing : 100.0\n",
      "loan : 100.0\n",
      "contact : 100.0\n",
      "day : 100.0\n",
      "month : 100.0\n",
      "duration : 100.0\n",
      "campaign : 100.0\n",
      "pdays : 100.0\n",
      "previous : 100.0\n",
      "poutcome : 100.0\n",
      "Target : 100.0\n"
     ]
    }
   ],
   "source": [
    "for i in df.columns:\n",
    "    print(i, ':', R_1_2(df, i).compliance)"
   ]
  },
  {
   "cell_type": "markdown",
   "metadata": {},
   "source": [
    "### Executing multiple rules"
   ]
  },
  {
   "cell_type": "code",
   "execution_count": 31,
   "metadata": {},
   "outputs": [],
   "source": [
    "lista = []\n",
    "\n",
    "R_1_1(df, \"job\", \"str\").save(lista)\n",
    "R_1_2(df, \"job\").save(lista)\n",
    "R_1_3_C(df, \"balance\", \"<\", 0).save(lista)\n",
    "R_1_4(df, \"balance\", 0, 99999).save(lista)\n",
    "#R_1_5(df, \"housing\", [\"yes\",\"no\"]).save(lista)\n",
    "R_1_6(df, \"balance\", '[^ ]+').save(lista)\n",
    "#R_2_1(df, \"age\").save(lista)"
   ]
  },
  {
   "cell_type": "code",
   "execution_count": 32,
   "metadata": {},
   "outputs": [
    {
     "data": {
      "text/plain": [
       "[{'Field': 'job',\n",
       "  'Secondary_Field': None,\n",
       "  'Object': 'df',\n",
       "  'Rule_Type': '1.1',\n",
       "  'Population': 1,\n",
       "  'Errors': 1,\n",
       "  'Compliance': 0.0},\n",
       " {'Field': 'job',\n",
       "  'Secondary_Field': None,\n",
       "  'Object': 'df',\n",
       "  'Rule_Type': '1.2',\n",
       "  'Population': 45211,\n",
       "  'Errors': 0,\n",
       "  'Compliance': 100.0},\n",
       " {'Field': 'balance',\n",
       "  'Secondary_Field': None,\n",
       "  'Object': 'df',\n",
       "  'Rule_Type': '1.3_C',\n",
       "  'Population': 45211,\n",
       "  'Errors': 3766,\n",
       "  'Compliance': 91.67},\n",
       " {'Field': 'balance',\n",
       "  'Secondary_Field': None,\n",
       "  'Object': 'df',\n",
       "  'Rule_Type': '1.4',\n",
       "  'Population': 45211,\n",
       "  'Errors': 3767,\n",
       "  'Compliance': 91.67},\n",
       " {'Field': 'balance',\n",
       "  'Secondary_Field': None,\n",
       "  'Object': 'df',\n",
       "  'Rule_Type': '1.6',\n",
       "  'Population': 45211,\n",
       "  'Errors': 0,\n",
       "  'Compliance': 100.0}]"
      ]
     },
     "execution_count": 32,
     "metadata": {},
     "output_type": "execute_result"
    }
   ],
   "source": [
    "lista"
   ]
  },
  {
   "cell_type": "code",
   "execution_count": 34,
   "metadata": {},
   "outputs": [],
   "source": [
    "# results = finish_report(lista).show()\n",
    "# results.show()"
   ]
  },
  {
   "cell_type": "code",
   "execution_count": 35,
   "metadata": {},
   "outputs": [],
   "source": [
    "# plot_report(results)\n"
   ]
  },
  {
   "cell_type": "code",
   "execution_count": 36,
   "metadata": {},
   "outputs": [],
   "source": [
    "# compliance(results_df)"
   ]
  }
 ],
 "metadata": {
  "kernelspec": {
   "display_name": "Python 3",
   "language": "python",
   "name": "python3"
  },
  "language_info": {
   "codemirror_mode": {
    "name": "ipython",
    "version": 3
   },
   "file_extension": ".py",
   "mimetype": "text/x-python",
   "name": "python",
   "nbconvert_exporter": "python",
   "pygments_lexer": "ipython3",
   "version": "3.10.5"
  }
 },
 "nbformat": 4,
 "nbformat_minor": 5
}
