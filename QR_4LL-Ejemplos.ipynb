{
 "cells": [
  {
   "cell_type": "markdown",
   "metadata": {},
   "source": [
    "# QR_4LL"
   ]
  },
  {
   "cell_type": "markdown",
   "metadata": {},
   "source": [
    "<br> __Author:__ Marcelo Gabriel Gonzalez\n",
    "<br> __Email:__ marcelo.g.gonzalez95@gmail.com"
   ]
  },
  {
   "cell_type": "code",
   "execution_count": 2,
   "id": "9ae6d2c2-aced-42d5-86c7-c0451d74f179",
   "metadata": {},
   "outputs": [],
   "source": [
    "from pyspark.sql import functions as F\n",
    "from pyspark.sql.window import Window\n",
    "from pyspark.sql import SparkSession\n",
    "import pandas as pd\n",
    "from datetime import date, timedelta\n",
    "from matplotlib import pyplot as plt\n",
    "import matplotlib as mpl\n",
    "\n",
    "spark = SparkSession.builder.getOrCreate()"
   ]
  },
  {
   "cell_type": "code",
   "execution_count": 2,
   "metadata": {},
   "outputs": [
    {
     "data": {
      "text/plain": [
       "'g:\\\\Mi unidad\\\\DATA\\\\PySpark\\\\QR_4LL\\\\Q-C_4LL'"
      ]
     },
     "execution_count": 2,
     "metadata": {},
     "output_type": "execute_result"
    }
   ],
   "source": [
    "import os\n",
    "os.getcwd()"
   ]
  },
  {
   "cell_type": "code",
   "execution_count": 3,
   "metadata": {},
   "outputs": [],
   "source": [
    "df = spark.read.csv('bank-full.csv',sep=\",\",header = True,inferSchema = True)"
   ]
  },
  {
   "cell_type": "code",
   "execution_count": 4,
   "id": "8ed8d109-da87-41bb-9bd3-3bb51b8e5db4",
   "metadata": {},
   "outputs": [
    {
     "name": "stdout",
     "output_type": "stream",
     "text": [
      "-RECORD 0---------------\n",
      " age       | 58         \n",
      " job       | management \n",
      " marital   | married    \n",
      " education | tertiary   \n",
      " default   | no         \n",
      " balance   | 2143       \n",
      " housing   | yes        \n",
      " loan      | no         \n",
      " contact   | unknown    \n",
      " day       | 5          \n",
      " month     | may        \n",
      " duration  | 261        \n",
      " campaign  | 1          \n",
      " pdays     | -1         \n",
      " previous  | 0          \n",
      " poutcome  | unknown    \n",
      " Target    | no         \n",
      "only showing top 1 row\n",
      "\n"
     ]
    }
   ],
   "source": [
    "df.show(1,vertical = True)"
   ]
  },
  {
   "cell_type": "markdown",
   "metadata": {},
   "source": [
    "## Example"
   ]
  },
  {
   "cell_type": "markdown",
   "metadata": {},
   "source": [
    "### Individual execution"
   ]
  },
  {
   "cell_type": "code",
   "execution_count": 10,
   "metadata": {},
   "outputs": [
    {
     "ename": "NameError",
     "evalue": "name 'R_1_2' is not defined",
     "output_type": "error",
     "traceback": [
      "\u001b[1;31m---------------------------------------------------------------------------\u001b[0m",
      "\u001b[1;31mNameError\u001b[0m                                 Traceback (most recent call last)",
      "\u001b[1;32mg:\\Mi unidad\\DATA\\PySpark\\QR_4LL\\Q-C_4LL\\QR_4LL-Ejemplos.ipynb Cell 9\u001b[0m line \u001b[0;36m<cell line: 1>\u001b[1;34m()\u001b[0m\n\u001b[1;32m----> <a href='vscode-notebook-cell:/g%3A/Mi%20unidad/DATA/PySpark/QR_4LL/Q-C_4LL/QR_4LL-Ejemplos.ipynb#Y103sZmlsZQ%3D%3D?line=0'>1</a>\u001b[0m a \u001b[39m=\u001b[39m R_1_2(df, \u001b[39m\"\u001b[39m\u001b[39mjob\u001b[39m\u001b[39m\"\u001b[39m)\n\u001b[0;32m      <a href='vscode-notebook-cell:/g%3A/Mi%20unidad/DATA/PySpark/QR_4LL/Q-C_4LL/QR_4LL-Ejemplos.ipynb#Y103sZmlsZQ%3D%3D?line=1'>2</a>\u001b[0m a\u001b[39m.\u001b[39mcompliance\n",
      "\u001b[1;31mNameError\u001b[0m: name 'R_1_2' is not defined"
     ]
    }
   ],
   "source": [
    "a = R_1_2(df, \"job\")\n",
    "a.compliance"
   ]
  },
  {
   "cell_type": "markdown",
   "metadata": {},
   "source": [
    "### Execution in for loop"
   ]
  },
  {
   "cell_type": "code",
   "execution_count": 9,
   "metadata": {},
   "outputs": [
    {
     "ename": "NameError",
     "evalue": "name 'df' is not defined",
     "output_type": "error",
     "traceback": [
      "\u001b[1;31m---------------------------------------------------------------------------\u001b[0m",
      "\u001b[1;31mNameError\u001b[0m                                 Traceback (most recent call last)",
      "\u001b[1;32mg:\\Mi unidad\\DATA\\PySpark\\QR_4LL\\Q-C_4LL\\QR_4LL-Ejemplos.ipynb Cell 8\u001b[0m line \u001b[0;36m<cell line: 1>\u001b[1;34m()\u001b[0m\n\u001b[1;32m----> <a href='vscode-notebook-cell:/g%3A/Mi%20unidad/DATA/PySpark/QR_4LL/Q-C_4LL/QR_4LL-Ejemplos.ipynb#X66sZmlsZQ%3D%3D?line=0'>1</a>\u001b[0m \u001b[39mfor\u001b[39;00m i \u001b[39min\u001b[39;00m df\u001b[39m.\u001b[39mcolumns:\n\u001b[0;32m      <a href='vscode-notebook-cell:/g%3A/Mi%20unidad/DATA/PySpark/QR_4LL/Q-C_4LL/QR_4LL-Ejemplos.ipynb#X66sZmlsZQ%3D%3D?line=1'>2</a>\u001b[0m     \u001b[39mprint\u001b[39m(i, \u001b[39m'\u001b[39m\u001b[39m:\u001b[39m\u001b[39m'\u001b[39m, R_1_2(df, i)\u001b[39m.\u001b[39mcompliance)\n",
      "\u001b[1;31mNameError\u001b[0m: name 'df' is not defined"
     ]
    }
   ],
   "source": [
    "for i in df.columns:\n",
    "    print(i, ':', R_1_2(df, i).compliance)"
   ]
  },
  {
   "cell_type": "markdown",
   "metadata": {},
   "source": [
    "### Executing multiple rules"
   ]
  },
  {
   "cell_type": "code",
   "execution_count": 6,
   "metadata": {},
   "outputs": [
    {
     "ename": "NameError",
     "evalue": "name 'R_1_1' is not defined",
     "output_type": "error",
     "traceback": [
      "\u001b[1;31m---------------------------------------------------------------------------\u001b[0m",
      "\u001b[1;31mNameError\u001b[0m                                 Traceback (most recent call last)",
      "\u001b[1;32mg:\\Mi unidad\\DATA\\PySpark\\QR_4LL\\Q-C_4LL\\QR_4LL-Ejemplos.ipynb Cell 7\u001b[0m line \u001b[0;36m<cell line: 2>\u001b[1;34m()\u001b[0m\n\u001b[0;32m      <a href='vscode-notebook-cell:/g%3A/Mi%20unidad/DATA/PySpark/QR_4LL/Q-C_4LL/QR_4LL-Ejemplos.ipynb#X13sZmlsZQ%3D%3D?line=0'>1</a>\u001b[0m lista \u001b[39m=\u001b[39m []\n\u001b[1;32m----> <a href='vscode-notebook-cell:/g%3A/Mi%20unidad/DATA/PySpark/QR_4LL/Q-C_4LL/QR_4LL-Ejemplos.ipynb#X13sZmlsZQ%3D%3D?line=1'>2</a>\u001b[0m R_1_1(df, \u001b[39m\"\u001b[39m\u001b[39mjob\u001b[39m\u001b[39m\"\u001b[39m, \u001b[39m\"\u001b[39m\u001b[39mstr\u001b[39m\u001b[39m\"\u001b[39m)\u001b[39m.\u001b[39msave(lista)\n",
      "\u001b[1;31mNameError\u001b[0m: name 'R_1_1' is not defined"
     ]
    }
   ],
   "source": [
    "lista = []\n",
    "\n",
    "R_1_1(df, \"job\", \"str\").save(lista)\n",
    "R_1_2(df, \"job\").save(lista)\n",
    "R_1_3_C(df, \"balance\", \"<\", 0).save(lista)\n",
    "R_1_4(df, \"balance\", 0, 99999).save(lista)\n",
    "R_1_5(df, \"housing\", [\"yes\",\"no\"]).save(lista)\n",
    "R_1_6(df,'marital').save(lista)\n",
    "R_1_7(df, \"age\").save(lista)"
   ]
  },
  {
   "cell_type": "code",
   "execution_count": null,
   "metadata": {},
   "outputs": [],
   "source": []
  },
  {
   "cell_type": "code",
   "execution_count": null,
   "metadata": {},
   "outputs": [],
   "source": [
    "res = finish_report(lista)"
   ]
  },
  {
   "cell_type": "code",
   "execution_count": null,
   "metadata": {},
   "outputs": [],
   "source": [
    "plot_report(res)"
   ]
  },
  {
   "cell_type": "code",
   "execution_count": null,
   "metadata": {},
   "outputs": [],
   "source": [
    "compliance(res)"
   ]
  }
 ],
 "metadata": {
  "kernelspec": {
   "display_name": "Python 3",
   "language": "python",
   "name": "python3"
  },
  "language_info": {
   "codemirror_mode": {
    "name": "ipython",
    "version": 3
   },
   "file_extension": ".py",
   "mimetype": "text/x-python",
   "name": "python",
   "nbconvert_exporter": "python",
   "pygments_lexer": "ipython3",
   "version": "3.10.5"
  }
 },
 "nbformat": 4,
 "nbformat_minor": 5
}
