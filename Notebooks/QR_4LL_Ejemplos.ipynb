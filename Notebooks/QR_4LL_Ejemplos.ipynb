{
 "cells": [
  {
   "cell_type": "markdown",
   "metadata": {},
   "source": [
    "# QR_4LL - Examples"
   ]
  },
  {
   "cell_type": "markdown",
   "metadata": {},
   "source": [
    "<br> __Author:__ Marcelo Gabriel Gonzalez\n",
    "<br> __Email:__ marcelo.g.gonzalez95@gmail.com"
   ]
  },
  {
   "cell_type": "code",
   "execution_count": 3,
   "id": "9ae6d2c2-aced-42d5-86c7-c0451d74f179",
   "metadata": {},
   "outputs": [],
   "source": [
    "from pyspark.sql import functions as F\n",
    "from pyspark.sql import SparkSession\n",
    "import sys\n",
    "#import pandas as pd\n",
    "#from matplotlib import pyplot as plt\n",
    "#import matplotlib as mpl\n",
    "spark = SparkSession.builder.getOrCreate()"
   ]
  },
  {
   "cell_type": "code",
   "execution_count": 6,
   "metadata": {},
   "outputs": [],
   "source": [
    "from QR_4LL_Classes import *"
   ]
  },
  {
   "cell_type": "code",
   "execution_count": 7,
   "metadata": {},
   "outputs": [],
   "source": [
    "#%run \"G:/Mi unidad/DATA/PySpark/QR_4LL/Q-C_4LL/QR_4LL-Classes.ipynb\""
   ]
  },
  {
   "cell_type": "code",
   "execution_count": 7,
   "metadata": {},
   "outputs": [],
   "source": [
    "df = spark.read.csv('bank-full.csv',sep=\",\",header = True,inferSchema = True)"
   ]
  },
  {
   "cell_type": "code",
   "execution_count": 8,
   "id": "8ed8d109-da87-41bb-9bd3-3bb51b8e5db4",
   "metadata": {},
   "outputs": [
    {
     "name": "stdout",
     "output_type": "stream",
     "text": [
      "-RECORD 0---------------\n",
      " age       | 58         \n",
      " job       | management \n",
      " marital   | married    \n",
      " education | tertiary   \n",
      " default   | no         \n",
      " balance   | 2143       \n",
      " housing   | yes        \n",
      " loan      | no         \n",
      " contact   | unknown    \n",
      " day       | 5          \n",
      " month     | may        \n",
      " duration  | 261        \n",
      " campaign  | 1          \n",
      " pdays     | -1         \n",
      " previous  | 0          \n",
      " poutcome  | unknown    \n",
      " Target    | no         \n",
      "only showing top 1 row\n",
      "\n"
     ]
    }
   ],
   "source": [
    "df.show(1,vertical = True)"
   ]
  },
  {
   "cell_type": "markdown",
   "metadata": {},
   "source": [
    "## Example"
   ]
  },
  {
   "cell_type": "markdown",
   "metadata": {},
   "source": [
    "### Individual execution"
   ]
  },
  {
   "cell_type": "code",
   "execution_count": 9,
   "metadata": {},
   "outputs": [
    {
     "data": {
      "text/plain": [
       "100.0"
      ]
     },
     "execution_count": 9,
     "metadata": {},
     "output_type": "execute_result"
    }
   ],
   "source": [
    "a = R_1_2(df, \"job\")\n",
    "a.compliance"
   ]
  },
  {
   "cell_type": "markdown",
   "metadata": {},
   "source": [
    "### Execution in for loop"
   ]
  },
  {
   "cell_type": "code",
   "execution_count": 10,
   "metadata": {},
   "outputs": [
    {
     "name": "stdout",
     "output_type": "stream",
     "text": [
      "age : 100.0\n",
      "job : 100.0\n",
      "marital : 100.0\n",
      "education : 100.0\n",
      "default : 100.0\n",
      "balance : 100.0\n",
      "housing : 100.0\n",
      "loan : 100.0\n",
      "contact : 100.0\n",
      "day : 100.0\n",
      "month : 100.0\n",
      "duration : 100.0\n",
      "campaign : 100.0\n",
      "pdays : 100.0\n",
      "previous : 100.0\n",
      "poutcome : 100.0\n",
      "Target : 100.0\n"
     ]
    }
   ],
   "source": [
    "for i in df.columns:\n",
    "    print(i, ':', R_1_2(df, i).compliance)"
   ]
  },
  {
   "cell_type": "markdown",
   "metadata": {},
   "source": [
    "### Executing multiple rules"
   ]
  },
  {
   "cell_type": "code",
   "execution_count": 23,
   "metadata": {},
   "outputs": [],
   "source": [
    "lista = []\n",
    "\n",
    "#R_1_1(df, \"job\", \"str\").save(lista)\n",
    "#R_1_2(df, \"job\").save(lista)\n",
    "#R_1_3_C(df, \"balance\", \"<\", 0).save(lista)\n",
    "#R_1_4(df, \"balance\", 0, 99999).save(lista)\n",
    "#R_1_5(df, \"housing\", [\"yes\",\"no\"]).save(lista)\n",
    "#R_1_6(df, \"balance\", '[^ ]+').save(lista)\n",
    "#R_2_1(df, \"age\").save(lista)\n",
    "#R_2_3(df, \"age\",\"<\", \"balance\").save(lista)\n",
    "#R_2_4(df, \"age\" , F.count, \">\", 3).save(lista)"
   ]
  },
  {
   "cell_type": "code",
   "execution_count": 24,
   "metadata": {},
   "outputs": [
    {
     "data": {
      "text/plain": [
       "[]"
      ]
     },
     "execution_count": 24,
     "metadata": {},
     "output_type": "execute_result"
    }
   ],
   "source": [
    "lista"
   ]
  },
  {
   "cell_type": "code",
   "execution_count": 26,
   "metadata": {},
   "outputs": [
    {
     "ename": "NameError",
     "evalue": "name 'spark' is not defined",
     "output_type": "error",
     "traceback": [
      "\u001b[1;31m---------------------------------------------------------------------------\u001b[0m",
      "\u001b[1;31mNameError\u001b[0m                                 Traceback (most recent call last)",
      "\u001b[1;32mg:\\Mi unidad\\DATA\\PySpark\\QR_4LL\\Q-C_4LL\\QR_4LL_Ejemplos.ipynb Cell 16\u001b[0m line \u001b[0;36m<cell line: 1>\u001b[1;34m()\u001b[0m\n\u001b[1;32m----> <a href='vscode-notebook-cell:/g%3A/Mi%20unidad/DATA/PySpark/QR_4LL/Q-C_4LL/QR_4LL_Ejemplos.ipynb#X20sZmlsZQ%3D%3D?line=0'>1</a>\u001b[0m results \u001b[39m=\u001b[39m finish_report(lista)\u001b[39m.\u001b[39mshow()\n\u001b[0;32m      <a href='vscode-notebook-cell:/g%3A/Mi%20unidad/DATA/PySpark/QR_4LL/Q-C_4LL/QR_4LL_Ejemplos.ipynb#X20sZmlsZQ%3D%3D?line=1'>2</a>\u001b[0m results\u001b[39m.\u001b[39mshow()\n",
      "File \u001b[1;32mg:\\Mi unidad\\DATA\\PySpark\\QR_4LL\\Q-C_4LL\\QR_4LL_Classes.py:424\u001b[0m, in \u001b[0;36mfinish_report\u001b[1;34m(container)\u001b[0m\n\u001b[0;32m    422\u001b[0m \u001b[39mdef\u001b[39;00m \u001b[39mfinish_report\u001b[39m(container: \u001b[39mlist\u001b[39m):\n\u001b[0;32m    423\u001b[0m         reporte_df \u001b[39m=\u001b[39m (\n\u001b[1;32m--> 424\u001b[0m                 spark\u001b[39m.\u001b[39mcreateDataFrame(container, df_schema)\n\u001b[0;32m    425\u001b[0m                 \u001b[39m.\u001b[39mwithColumn(\u001b[39m'\u001b[39m\u001b[39mID\u001b[39m\u001b[39m'\u001b[39m, F\u001b[39m.\u001b[39mmonotonically_increasing_id())\n\u001b[0;32m    426\u001b[0m                 \u001b[39m.\u001b[39mwithColumn(\u001b[39m'\u001b[39m\u001b[39mID_order\u001b[39m\u001b[39m'\u001b[39m, F\u001b[39m.\u001b[39mrow_number()\u001b[39m.\u001b[39mover(Window\u001b[39m.\u001b[39morderBy(\u001b[39m'\u001b[39m\u001b[39mID\u001b[39m\u001b[39m'\u001b[39m)))\n\u001b[0;32m    427\u001b[0m                 \u001b[39m.\u001b[39mwithColumn(\u001b[39m'\u001b[39m\u001b[39mOKs\u001b[39m\u001b[39m'\u001b[39m, F\u001b[39m.\u001b[39mcol(\u001b[39m'\u001b[39m\u001b[39mPopulation\u001b[39m\u001b[39m'\u001b[39m)\u001b[39m-\u001b[39mF\u001b[39m.\u001b[39mcol(\u001b[39m'\u001b[39m\u001b[39mErrors\u001b[39m\u001b[39m'\u001b[39m))\n\u001b[0;32m    428\u001b[0m                 \u001b[39m.\u001b[39mselect(\n\u001b[0;32m    429\u001b[0m                         \u001b[39m'\u001b[39m\u001b[39mID_order\u001b[39m\u001b[39m'\u001b[39m, \u001b[39m'\u001b[39m\u001b[39mField\u001b[39m\u001b[39m'\u001b[39m,\u001b[39m'\u001b[39m\u001b[39mSecondary_Field\u001b[39m\u001b[39m'\u001b[39m,\u001b[39m'\u001b[39m\u001b[39mObject\u001b[39m\u001b[39m'\u001b[39m, \u001b[39m'\u001b[39m\u001b[39mRule_Type\u001b[39m\u001b[39m'\u001b[39m,\n\u001b[0;32m    430\u001b[0m                         \u001b[39m'\u001b[39m\u001b[39mPopulation\u001b[39m\u001b[39m'\u001b[39m, \u001b[39m'\u001b[39m\u001b[39mOKs\u001b[39m\u001b[39m'\u001b[39m, \u001b[39m'\u001b[39m\u001b[39mErrors\u001b[39m\u001b[39m'\u001b[39m, \u001b[39m'\u001b[39m\u001b[39mCompliance\u001b[39m\u001b[39m'\u001b[39m\n\u001b[0;32m    431\u001b[0m                         )\n\u001b[0;32m    432\u001b[0m                 )\n\u001b[0;32m    433\u001b[0m         \u001b[39mreturn\u001b[39;00m reporte_df\n",
      "\u001b[1;31mNameError\u001b[0m: name 'spark' is not defined"
     ]
    }
   ],
   "source": [
    "# results = finish_report(lista).show()\n",
    "# results.show()"
   ]
  },
  {
   "cell_type": "code",
   "execution_count": 15,
   "metadata": {},
   "outputs": [],
   "source": [
    "# plot_report(results)"
   ]
  },
  {
   "cell_type": "code",
   "execution_count": 16,
   "metadata": {},
   "outputs": [],
   "source": [
    "# compliance(results_df)"
   ]
  }
 ],
 "metadata": {
  "kernelspec": {
   "display_name": "Python 3",
   "language": "python",
   "name": "python3"
  },
  "language_info": {
   "codemirror_mode": {
    "name": "ipython",
    "version": 3
   },
   "file_extension": ".py",
   "mimetype": "text/x-python",
   "name": "python",
   "nbconvert_exporter": "python",
   "pygments_lexer": "ipython3",
   "version": "3.10.5"
  }
 },
 "nbformat": 4,
 "nbformat_minor": 5
}
