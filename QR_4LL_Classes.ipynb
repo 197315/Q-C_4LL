{
 "cells": [
  {
   "cell_type": "markdown",
   "id": "873db31f",
   "metadata": {},
   "source": [
    "# QR_4LL"
   ]
  },
  {
   "cell_type": "markdown",
   "id": "7363db1f",
   "metadata": {},
   "source": [
    "<br> __Author:__ Marcelo Gabriel Gonzalez\n",
    "<br> __Email:__ marcelo.g.gonzalez95@gmail.com"
   ]
  },
  {
   "cell_type": "code",
   "execution_count": 1,
   "id": "9ae6d2c2-aced-42d5-86c7-c0451d74f179",
   "metadata": {},
   "outputs": [],
   "source": [
    "from pyspark.sql import functions as F\n",
    "from pyspark.sql.window import Window\n",
    "import pandas as pd\n",
    "from datetime import date\n",
    "from matplotlib import pyplot as plt\n",
    "import matplotlib as mpl\n",
    "from pyspark.sql.types import (StructType, StructField, StringType, IntegerType, DoubleType)\n",
    "#spark = SparkSession.builder.getOrCreate()"
   ]
  },
  {
   "cell_type": "markdown",
   "id": "34adcfd9-4a32-4012-a958-703aa452c910",
   "metadata": {},
   "source": [
    "## __Parent Class__"
   ]
  },
  {
   "cell_type": "code",
   "execution_count": 2,
   "id": "95123eb0-1188-48a6-8627-6ecd70fd71b0",
   "metadata": {},
   "outputs": [],
   "source": [
    "\n",
    "from abc import ABC, abstractmethod\n",
    "class QualityRule(ABC):\n",
    "    def __init__(self, df, field:str, dtype_expected:str = None, operator:str = None, threshold = None,\n",
    "                 values:list = None, min_value = None, max_value = None,key:str = None, df2 = None ,\n",
    "                 field2:str = None, key2:str = None, rule_type:str = None, expression:str = None, agg_type = None):\n",
    "        super().__init__()\n",
    "        self.data = df\n",
    "        self.field = field\n",
    "        self.dtype_expected = dtype_expected\n",
    "        self.operator = operator\n",
    "        self.threshold = threshold\n",
    "        self.values = values\n",
    "        self.min_value = min_value\n",
    "        self.max_value = max_value\n",
    "        self.key = key\n",
    "        self.df2 = df2\n",
    "        self.field2 = field2\n",
    "        self.key2 = key2\n",
    "        self.rule_type = rule_type\n",
    "        self.expression = expression\n",
    "        self.agg_type = agg_type\n",
    "        self.population = self._count_population()\n",
    "        self.errors_df = self._errors_df()\n",
    "        self.errors = self._count_errors()\n",
    "        self.compliance = round(((self.population - self.errors)/self.population) * 100,2)\n",
    "        \n",
    "    @abstractmethod\n",
    "    def _count_population():\n",
    "        pass\n",
    "    \n",
    "    @abstractmethod\n",
    "    def _errors_df():\n",
    "        pass\n",
    "    \n",
    "    @abstractmethod\n",
    "    def _count_errors():\n",
    "        pass\n",
    "    \n",
    "    def save(self, container:list):\n",
    "        self.container = container\n",
    "        self.container.append(\n",
    "            {\"Field\": self.field,\n",
    "             \"Secondary_Field\": self.field2,\n",
    "             \"Object\": [x for x in globals() if globals()[x] is self.data][0],\n",
    "             \"Rule_Type\" : self.rule_type,\n",
    "             \"Population\": self.population,\n",
    "             \"Errors\":self.errors,\n",
    "             \"Compliance\": self.compliance}\n",
    ")"
   ]
  },
  {
   "cell_type": "markdown",
   "id": "1f5d3289",
   "metadata": {},
   "source": [
    "## Basics Rules"
   ]
  },
  {
   "cell_type": "markdown",
   "id": "9ccd6fef-e162-4442-8dc3-f7cd85521d76",
   "metadata": {},
   "source": [
    "### R_1_1"
   ]
  },
  {
   "cell_type": "code",
   "execution_count": 3,
   "id": "da0dc1c1",
   "metadata": {},
   "outputs": [],
   "source": [
    "class R_1_1(QualityRule):\n",
    "    \"\"\"R_1_1 = Compara el data type esperado vs el data type real de la tabla.\"\"\"\n",
    "    \n",
    "    def __init__(self, df, field, dtype_expected):\n",
    "        super().__init__(df, field, dtype_expected, rule_type = '1.1')\n",
    "        \n",
    "    def _count_population(self):\n",
    "        return len(self.data.select(self.field).dtypes[0][1].split())\n",
    "    \n",
    "    def _errors_df(self):\n",
    "        return '-'\n",
    "        \n",
    "    def _count_errors(self):\n",
    "        if self.data.select(self.field).dtypes[0][1] == self.dtype_expected:\n",
    "            return 0\n",
    "        else:\n",
    "            return 1"
   ]
  },
  {
   "cell_type": "markdown",
   "id": "36b38fa2",
   "metadata": {},
   "source": [
    "### R_1_2"
   ]
  },
  {
   "cell_type": "code",
   "execution_count": 4,
   "id": "c687fc2f-9a27-47a9-804e-19619c60cd08",
   "metadata": {},
   "outputs": [],
   "source": [
    "class R_1_2(QualityRule):\n",
    "    \"\"\"R_1_2 = Chequea valores Nulos.\"\"\"\n",
    "\n",
    "    def __init__(self, df, field):\n",
    "        super().__init__(df, field, rule_type = '1.2')\n",
    "        \n",
    "    def _count_population(self):\n",
    "        return self.data.count()\n",
    "    \n",
    "    def _errors_df(self):\n",
    "        return self.data.filter(F.col(self.field).isNull())\n",
    "    \n",
    "    def _count_errors(self):\n",
    "        return self.errors_df.count()"
   ]
  },
  {
   "cell_type": "markdown",
   "id": "732b5a19",
   "metadata": {},
   "source": [
    "### R_1_3_D"
   ]
  },
  {
   "cell_type": "code",
   "execution_count": 5,
   "id": "a7246f96",
   "metadata": {},
   "outputs": [],
   "source": [
    "class R_1_3_D(QualityRule):\n",
    "    \"\"\"R_1_3_D = Valores específicos no permitidos. (Discretos)\"\"\"\n",
    "    \n",
    "    def __init__(self, df, field, values):\n",
    "        super().__init__(df = df, field = field, values = values, rule_type = '1.3_D')\n",
    "        \n",
    "    def _count_population(self):\n",
    "        return self.data.count()\n",
    "    \n",
    "    def _errors_df(self):\n",
    "        self.data.filter(F.col(self.field).isin(self.values))\n",
    "        \n",
    "    def _count_errors(self):\n",
    "        return self.errors_df.count() "
   ]
  },
  {
   "cell_type": "markdown",
   "id": "1965dd92-be25-4049-8707-ebe08219d1a6",
   "metadata": {},
   "source": [
    "### R_1_3_C"
   ]
  },
  {
   "cell_type": "code",
   "execution_count": 6,
   "id": "12e2677c-e09a-4ddd-bf31-68b2c439c8a1",
   "metadata": {},
   "outputs": [],
   "source": [
    "class R_1_3_C(QualityRule):\n",
    "    \"\"\"R_1_3_C = Valores no permitidos (rangos).\"\"\"\n",
    "    \n",
    "    def __init__(self, df, field, operator, threshold):\n",
    "        super().__init__(df = df, field = field, operator = operator, threshold = threshold, rule_type = '1.3_C')\n",
    "        \n",
    "    def _count_population(self):\n",
    "        return self.data.count()\n",
    "    \n",
    "    def _errors_df(self):\n",
    "        \n",
    "        if self.operator == '<=':\n",
    "            return self.data.filter(F.col(self.field) <= self.threshold)\n",
    "        elif self.operator == '<':\n",
    "            return self.data.filter(F.col(self.field) < self.threshold)\n",
    "        elif self.operator == '>':\n",
    "            return self.data.filter(F.col(self.field) > self.threshold)\n",
    "        elif self.operator == '>=':\n",
    "            return self.data.filter(F.col(self.field) >= self.threshold)\n",
    "        elif self.operator == '==':\n",
    "            return self.data.filter(F.col(self.field) == self.threshold)\n",
    "        elif self.operator == '!=':\n",
    "            return self.data.filter(F.col(self.field) != self.threshold)\n",
    "        \n",
    "    def _count_errors(self):\n",
    "        return self.errors_df.count()   "
   ]
  },
  {
   "cell_type": "markdown",
   "id": "f6e9f6f7-44c8-4168-9053-a760a4b58219",
   "metadata": {},
   "source": [
    "### R_1_4"
   ]
  },
  {
   "cell_type": "code",
   "execution_count": 7,
   "id": "4e5cd9d5-7507-43c1-94c9-133f7dd5f1bc",
   "metadata": {},
   "outputs": [],
   "source": [
    "class R_1_4(QualityRule):\n",
    "    \"\"\"R_1_4 = Valores dentro del rango esperado.\"\"\"\n",
    "    \n",
    "    def __init__(self, df, field:str, min_value, max_value):\n",
    "        super().__init__(df = df, field = field, min_value = min_value, max_value = max_value, rule_type = '1.4')\n",
    "        \n",
    "    def _count_population(self):\n",
    "        return self.data.count()\n",
    "    \n",
    "    def _errors_df(self):\n",
    "        return self.data.filter((F.col(self.field) < self.min_value) | (F.col(self.field) > self.max_value))\n",
    "        \n",
    "    def _count_errors(self):\n",
    "        return self.errors_df.count()"
   ]
  },
  {
   "cell_type": "markdown",
   "id": "6e64d8bd-e6c1-490f-9d00-f843cfb25e29",
   "metadata": {},
   "source": [
    "### R_1_5_E"
   ]
  },
  {
   "cell_type": "code",
   "execution_count": 8,
   "id": "68e0955d-f73f-43aa-b146-1d2a793e3ab9",
   "metadata": {},
   "outputs": [],
   "source": [
    "class R_1_5(QualityRule):\n",
    "    \"\"\"R_1_5 = Valores dentro de un catálogo estático.\"\"\"    \n",
    "    \n",
    "    def __init__(self, df, field:str, values):\n",
    "        super().__init__(df = df, field = field, values = values, rule_type = '1.5')\n",
    "        \n",
    "    def _count_population(self):\n",
    "        return self.data.count()\n",
    "    \n",
    "    def _errors_df(self):\n",
    "        return self.data.filter(~F.col(self.field).isin(self.values))\n",
    "        \n",
    "    def _count_errors(self):\n",
    "        return self.errors_df.count()"
   ]
  },
  {
   "cell_type": "markdown",
   "id": "64882c9a-5b34-41bd-b4a8-b1be307afe4b",
   "metadata": {},
   "source": [
    "### R_1_6"
   ]
  },
  {
   "cell_type": "code",
   "execution_count": 9,
   "id": "861fabc3-e772-4ffd-a343-5dbb18dd66ab",
   "metadata": {},
   "outputs": [],
   "source": [
    "class R_1_6(QualityRule):\n",
    "    \"\"\"R_1_6 = Comprueba que no existan caracteres no deseados.\"\"\"\n",
    "    \n",
    "    def __init__(self, df, field:str, expression):\n",
    "        super().__init__(df = df, field = field, rule_type = '1.6', expression = expression)\n",
    "        \n",
    "    def _count_population(self):\n",
    "        return self.data.count()\n",
    "    \n",
    "    def _errors_df(self):\n",
    "        return self.data.withColumn('Exp', F.length(F.regexp_replace(self.field, self.expression , ''))).filter(F.col('Exp')!= 0)\n",
    "        \n",
    "    def _count_errors(self):\n",
    "        return self.errors_df.count()"
   ]
  },
  {
   "cell_type": "markdown",
   "id": "6587e3ac",
   "metadata": {},
   "source": [
    "## Users Rules"
   ]
  },
  {
   "cell_type": "markdown",
   "id": "28d61123-bdcf-4284-b86f-315d3875b129",
   "metadata": {},
   "source": [
    "### R_2_1"
   ]
  },
  {
   "cell_type": "code",
   "execution_count": 10,
   "id": "4696eea4-e7de-41be-bda9-4a66a734adcf",
   "metadata": {},
   "outputs": [],
   "source": [
    "class R_2_1(QualityRule):\n",
    "    \"\"\"R_2_1 = Chequea valores repetidos (duplicados, triplicados, etc.)\"\"\"\n",
    "    \n",
    "    def __init__(self, df, field):\n",
    "        super().__init__(df, field, rule_type = '2.1')\n",
    "        \n",
    "    def _count_population(self):\n",
    "        return self.data.count()\n",
    "    \n",
    "    def _errors_df(self):\n",
    "        return self.data.select(self.field).groupBy(self.field).count().withColumn('errores',F.col('count')-1)\n",
    "    \n",
    "    def _count_errors(self):\n",
    "        return self.errors_df.select(F.sum('errores')).collect()[0][0]"
   ]
  },
  {
   "cell_type": "markdown",
   "id": "25f34d92",
   "metadata": {},
   "source": [
    "### R_2_2"
   ]
  },
  {
   "cell_type": "code",
   "execution_count": 11,
   "id": "c315d0f0",
   "metadata": {},
   "outputs": [],
   "source": [
    "class R_2_2(QualityRule):\n",
    "    \"\"\"R_2_2 = Controlar la relacion entre variables de tablas distintas.\"\"\"\n",
    "\n",
    "    def __init__(self, df, key, field, operator, df2, key2, field2):\n",
    "        super().__init__(\n",
    "            df,\n",
    "            field,\n",
    "            operator=operator,\n",
    "            key=key,\n",
    "            df2=df2,\n",
    "            field2=field2,\n",
    "            key2=key2,\n",
    "            rule_type=\"2.2\",\n",
    "        )\n",
    "\n",
    "    def _count_population(self):\n",
    "        self.df1_values = self.data.select(self.key, self.field).withColumnRenamed(\n",
    "            self.key, self.key + \"_1\"\n",
    "        )\n",
    "        self.df2_values = self.df2.select(self.key2, self.field2).withColumnRenamed(\n",
    "            self.key2, self.key2 + \"_2\"\n",
    "        )\n",
    "        self.df_values = self.df1_values.join(\n",
    "            self.df2_values, how=\"inner\", on=[self.df1_values[0] == self.df2_values[0]]\n",
    "        )\n",
    "        return self.df_values.count()\n",
    "\n",
    "    def _errors_df(self):\n",
    "        if self.operator == \"<=\":\n",
    "            return self.df_values.select(self.field, self.field2).filter(\n",
    "                F.col(self.field) <= F.col(self.field2)\n",
    "            )\n",
    "        elif self.operator == \"<\":\n",
    "            return self.df_values.select(self.field, self.field2).filter(\n",
    "                F.col(self.field) < F.col(self.field2)\n",
    "            )\n",
    "        elif self.operator == \">\":\n",
    "            return self.df_values.select(self.field, self.field2).filter(\n",
    "                F.col(self.field) > F.col(self.field2)\n",
    "            )\n",
    "        elif self.operator == \">=\":\n",
    "            return self.df_values.select(self.field, self.field2).filter(\n",
    "                F.col(self.field) >= F.col(self.field2)\n",
    "            )\n",
    "\n",
    "    def _count_errors(self):\n",
    "        return self.errors_df.count()"
   ]
  },
  {
   "cell_type": "markdown",
   "id": "c6623897",
   "metadata": {},
   "source": [
    "### R_2_3"
   ]
  },
  {
   "cell_type": "code",
   "execution_count": 12,
   "id": "f28e89ca",
   "metadata": {},
   "outputs": [],
   "source": [
    "class R_2_3(QualityRule):\n",
    "    \"\"\"R_2_3 = Controlar la relacion entre variables de una misma tabla.\"\"\"\n",
    "\n",
    "    def __init__(self, df, field, operator, field2):\n",
    "        super().__init__(\n",
    "            df,\n",
    "            field,\n",
    "            operator=operator,\n",
    "            field2=field2,\n",
    "            rule_type=\"2.3\",\n",
    "        )\n",
    "\n",
    "    def _count_population(self):\n",
    "        return self.data.count()\n",
    "\n",
    "    def _errors_df(self):\n",
    "        if self.operator == \"<=\":\n",
    "            return self.data.select(self.field, self.field2).filter(\n",
    "                F.col(self.field) <= F.col(self.field2)\n",
    "            )\n",
    "        elif self.operator == \"<\":\n",
    "            return self.data.select(self.field, self.field2).filter(\n",
    "                F.col(self.field) < F.col(self.field2)\n",
    "            )\n",
    "        elif self.operator == \">\":\n",
    "            return self.data.select(self.field, self.field2).filter(\n",
    "                F.col(self.field) > F.col(self.field2)\n",
    "            )\n",
    "        elif self.operator == \">=\":\n",
    "            return self.data.select(self.field, self.field2).filter(\n",
    "                F.col(self.field) >= F.col(self.field2)\n",
    "            )\n",
    "\n",
    "    def _count_errors(self):\n",
    "        return self.errors_df.count()"
   ]
  },
  {
   "cell_type": "markdown",
   "id": "d397a52d",
   "metadata": {},
   "source": [
    "### R_2_4"
   ]
  },
  {
   "cell_type": "code",
   "execution_count": 13,
   "id": "96e9a929",
   "metadata": {},
   "outputs": [],
   "source": [
    "class R_2_4(QualityRule):\n",
    "    \"\"\"R_2_4 = Controlar que la agregación de una variable no supere determinado umbral.\"\"\"\n",
    "\n",
    "    def __init__(self, df, field, agg_type, operator, threshold):\n",
    "        super().__init__(\n",
    "            df,\n",
    "            field,\n",
    "            operator=operator,\n",
    "            threshold=threshold,\n",
    "            rule_type=\"2.4\",\n",
    "            agg_type=agg_type,\n",
    "        )\n",
    "\n",
    "    def _count_population(self):\n",
    "        self.df_grp = (\n",
    "            self.data.select(self.field)\n",
    "            .groupBy(self.field)\n",
    "            .agg(self.agg_type(self.field))\n",
    "        )\n",
    "        return self.df_grp.count()\n",
    "\n",
    "    def _errors_df(self):\n",
    "        if self.operator == \"<=\":\n",
    "            return self.df_grp.filter(F.col(self.df_grp.columns[1]) <= self.threshold)\n",
    "        elif self.operator == \"<\":\n",
    "            return self.df_grp.filter(F.col(self.df_grp.columns[1]) < self.threshold)\n",
    "        elif self.operator == \">\":\n",
    "            return self.df_grp.filter(F.col(self.df_grp.columns[1]) > self.threshold)\n",
    "        elif self.operator == \">=\":\n",
    "            return self.df_grp.filter(F.col(self.df_grp.columns[1]) >= self.threshold)\n",
    "\n",
    "    def _count_errors(self):\n",
    "        return self.errors_df.count()"
   ]
  },
  {
   "cell_type": "markdown",
   "id": "9df7fd1f",
   "metadata": {},
   "source": [
    "# Funciones"
   ]
  },
  {
   "cell_type": "code",
   "execution_count": 14,
   "id": "468881f4",
   "metadata": {},
   "outputs": [],
   "source": [
    "df_schema = StructType(\n",
    "  [\n",
    "    StructField(\"Field\",StringType(),True), \\\n",
    "    StructField(\"Secondary_Field\",StringType(),True), \\\n",
    "    StructField(\"Object\",StringType(),True), \\\n",
    "    StructField(\"Rule_Type\", StringType(), True), \\\n",
    "    StructField(\"Population\", IntegerType(), True), \\\n",
    "    StructField(\"Errors\", IntegerType(), True), \\\n",
    "    StructField(\"Compliance\", DoubleType(), True),\n",
    "  ]\n",
    "                    )"
   ]
  },
  {
   "cell_type": "code",
   "execution_count": 15,
   "id": "0102579a",
   "metadata": {},
   "outputs": [],
   "source": [
    "def finish_report(container: list):\n",
    "        reporte_df = (\n",
    "                spark.createDataFrame(container, df_schema)\n",
    "                .withColumn('ID', F.monotonically_increasing_id())\n",
    "                .withColumn('ID_order', F.row_number().over(Window.orderBy('ID')))\n",
    "                .withColumn('OKs', F.col('Population')-F.col('Errors'))\n",
    "                .select(\n",
    "                        'ID_order', 'Field','Secondary_Field','Object', 'Rule_Type',\n",
    "                        'Population', 'OKs', 'Errors', 'Compliance'\n",
    "                        )\n",
    "                )\n",
    "        return reporte_df"
   ]
  },
  {
   "cell_type": "code",
   "execution_count": 16,
   "id": "902c5c4e",
   "metadata": {},
   "outputs": [],
   "source": [
    "def plot_report(reporte_df: pd.DataFrame):\n",
    "    \n",
    "    fig, ax = plt.subplots(figsize=(15,8), facecolor=(.94, .94, .94))\n",
    "\n",
    "    reglas = reporte_df.select('ID_order').rdd.flatMap(lambda x:x).collect()\n",
    "    cumplimiento = reporte_df.select('Compliance').rdd.flatMap(lambda x:x).collect()\n",
    "\n",
    "    cols = ['red' if x < 90 else 'green' if x > 90 else 'yellow' for x in cumplimiento]\n",
    "    bars = ax.barh(reglas,cumplimiento, color = cols, align='center')\n",
    "    plt.axvline(x = 90, color = 'red', ls='--')\n",
    "    plt.axvline(x = 95, color = 'yellow', ls='--')\n",
    "    \n",
    "    ax.set_facecolor('#eafff5')\n",
    "    #etiqueta de barras\n",
    "    ax.bar_label(bars, fmt= '{:,.2f}%', label_type ='center', color = 'white')\n",
    "    #Formato de eje y\n",
    "    ax.xaxis.set_major_formatter(mpl.ticker.StrMethodFormatter('{x:,.0f}%'))\n",
    "    #Etiquetas de ejes\n",
    "    ax.set(ylabel='ID Rule', xlabel = 'Compliance')\n",
    "    #Titulo\n",
    "    title = plt.title('Quality Rules Results',fontsize=18,pad=20)\n",
    "    title.set_position([.12, 1])\n",
    "    plt.show()"
   ]
  },
  {
   "cell_type": "code",
   "execution_count": 17,
   "id": "baf217c6",
   "metadata": {},
   "outputs": [],
   "source": [
    "def compliance(df: pd.DataFrame , by = 'Total'): \n",
    "    \n",
    "    print(' Cantidad de Reglas: ', df.count(),'\\n',\n",
    "          'Cantidad de objetos: ', df.select('Object').distinct().count(),'\\n',\n",
    "          'Cantidad de campos: ', df.select('Field').distinct().count(),'\\n',\n",
    "          'Reglas por campo: ',round(df.count() / df.select('Field').distinct().count(),2),'\\n',\n",
    "          'Reglas por objeto: ',round(df.count() / df.select('Object').distinct().count()),2,'\\n')\n",
    "      \n",
    "    if by == 'Total':\n",
    "        return print('% de Cumplimiento Total: ', df.select(F.round(F.avg('Compliance'),2)).collect()[0][0])\n",
    "    \n",
    "    elif by == 'Objects':\n",
    "        obj_cump = df.select('Object','Compliance').groupBy('Object').agg(F.round(F.avg('Compliance'),2).alias('mean'))\n",
    "        objects = obj_cump.select('Object').rdd.flatMap(lambda x:x).collect()\n",
    "        cump = obj_cump.select('mean').rdd.flatMap(lambda x:x).collect()\n",
    "        for i,j in zip(objects, cump):\n",
    "            print('% de Cumplimiento -', i,':', j)\n",
    "            \n",
    "    elif by == 'Fields':\n",
    "        fields_cump = df.select('Field','Compliance').groupBy('Field').agg(F.round(F.avg('Compliance'),2).alias('mean'))\n",
    "        fields = fields_cump.select('Field').rdd.flatMap(lambda x:x).collect()\n",
    "        cump = fields_cump.select('mean').rdd.flatMap(lambda x:x).collect()\n",
    "        for i,j in zip(fields, cump):\n",
    "            print('% de Cumplimiento -', i,':', j)"
   ]
  }
 ],
 "metadata": {
  "kernelspec": {
   "display_name": "Python 3 (ipykernel)",
   "language": "python",
   "name": "python3"
  },
  "language_info": {
   "codemirror_mode": {
    "name": "ipython",
    "version": 3
   },
   "file_extension": ".py",
   "mimetype": "text/x-python",
   "name": "python",
   "nbconvert_exporter": "python",
   "pygments_lexer": "ipython3",
   "version": "3.10.5"
  }
 },
 "nbformat": 4,
 "nbformat_minor": 5
}
