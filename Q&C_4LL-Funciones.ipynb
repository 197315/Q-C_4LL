{
 "cells": [
  {
   "cell_type": "markdown",
   "metadata": {},
   "source": [
    "# Q&C_4LL - Quality Rules Library"
   ]
  },
  {
   "cell_type": "markdown",
   "metadata": {},
   "source": [
    "<br>__Autor:__ Marcelo Gabriel Gonzalez\n",
    "<br>__Correo:__ marcelogabriel.gonzalez@bbva.com\n",
    "<br>__Equipo:__ CoE Data Argentina"
   ]
  },
  {
   "cell_type": "markdown",
   "metadata": {},
   "source": [
    "<a href=\"https://docs.google.com/spreadsheets/d/1TmidsE1NeSJrG7rMhztIVX5LO1JT9JSAVM_R7ygbJrA/edit#gid=1509800287\">Documentacion</a> "
   ]
  },
  {
   "cell_type": "markdown",
   "metadata": {
    "tags": []
   },
   "source": [
    "## __Librerías__"
   ]
  },
  {
   "cell_type": "code",
   "execution_count": 1,
   "metadata": {},
   "outputs": [
    {
     "name": "stderr",
     "output_type": "stream",
     "text": [
      "/miniconda/lib/python3.9/site-packages/requests/__init__.py:102: RequestsDependencyWarning: urllib3 (2.0.7) or chardet (5.2.0)/charset_normalizer (2.0.4) doesn't match a supported version!\n",
      "  warnings.warn(\"urllib3 ({}) or chardet ({})/charset_normalizer ({}) doesn't match a supported \"\n"
     ]
    }
   ],
   "source": [
    "from pyspark.sql import functions as F\n",
    "from pyspark.sql.window import Window\n",
    "from dataproc_sdk.dataproc_sdk_datiopysparksession.datiopysparksession import DatioPysparkSession\n",
    "dataproc= DatioPysparkSession().get_or_create()\n",
    "import pandas as pd\n",
    "from matplotlib import pyplot as plt\n",
    "import matplotlib as mpl\n",
    "from pyspark.sql import SparkSession"
   ]
  },
  {
   "cell_type": "markdown",
   "metadata": {
    "tags": []
   },
   "source": [
    "## __Funciones__"
   ]
  },
  {
   "cell_type": "markdown",
   "metadata": {},
   "source": [
    "### Finish Report"
   ]
  },
  {
   "cell_type": "code",
   "execution_count": 2,
   "metadata": {},
   "outputs": [],
   "source": [
    "def finish_report(reporte: pd.DataFrame):\n",
    "    if 'ID' not in reporte[0]:\n",
    "        reporte_df = (spark\n",
    "                      .createDataFrame(reporte)\n",
    "                      .withColumn('ID', F.monotonically_increasing_id())\n",
    "                      .withColumn('ID_order', F.row_number().over(Window.orderBy('ID')))\n",
    "                      .withColumn('OKs', F.col('Poblacion')-F.col('Errores'))\n",
    "                      .select('ID_order', 'Campo','Campo_secundario','Object', 'Tipo_Regla', 'Poblacion', 'OKs', 'Errores', 'Cumplimiento'))\n",
    "        return reporte_df"
   ]
  },
  {
   "cell_type": "markdown",
   "metadata": {},
   "source": [
    "### Plot Report"
   ]
  },
  {
   "cell_type": "code",
   "execution_count": 3,
   "metadata": {},
   "outputs": [],
   "source": [
    "def plot_report(reporte_df: pd.DataFrame):\n",
    "    \n",
    "    fig, ax = plt.subplots(figsize=(15,8), facecolor=(.94, .94, .94))\n",
    "\n",
    "    reglas = reporte_df.select('ID_order').rdd.flatMap(lambda x:x).collect()\n",
    "    cumplimiento = reporte_df.select('Cumplimiento').rdd.flatMap(lambda x:x).collect()\n",
    "\n",
    "    cols = ['red' if x < 90 else 'green' if x > 90 else 'yellow' for x in cumplimiento]\n",
    "    bars = ax.barh(reglas,cumplimiento, color = cols, align='center')\n",
    "    plt.axvline(x = 90, color = 'red', ls='--')\n",
    "    plt.axvline(x = 95, color = 'yellow', ls='--')\n",
    "    \n",
    "    ax.set_facecolor('#eafff5')\n",
    "    #etiqueta de barras\n",
    "    ax.bar_label(bars, fmt= '{:,.2f}%', label_type ='center', color = 'white')\n",
    "    #Formato de eje y\n",
    "    ax.xaxis.set_major_formatter(mpl.ticker.StrMethodFormatter('{x:,.0f}%'))\n",
    "    #Etiquetas de ejes\n",
    "    ax.set(ylabel='ID Regla', xlabel = 'Cumplimiento')\n",
    "    #Titulo\n",
    "    title = plt.title('Quality Rules Results',fontsize=18,pad=20)\n",
    "    title.set_position([.12, 1])\n",
    "    plt.show()"
   ]
  },
  {
   "cell_type": "markdown",
   "metadata": {},
   "source": [
    "### Compliance"
   ]
  },
  {
   "cell_type": "code",
   "execution_count": 4,
   "metadata": {},
   "outputs": [],
   "source": [
    "def compliance(df: pd.DataFrame , by = 'Total'): \n",
    "    \n",
    "    print(' Cantidad de Reglas: ', df.count(),'\\n',\n",
    "          'Cantidad de objetos: ', df.select('Object').distinct().count(),'\\n',\n",
    "          'Cantidad de campos: ', df.select('Campo').distinct().count(),'\\n',\n",
    "          'Reglas por campo: ',round(df.count() / df.select('Campo').distinct().count(),2),'\\n',\n",
    "          'Reglas por objeto: ',round(df.count() / df.select('Object').distinct().count()),2,'\\n')\n",
    "      \n",
    "    if by == 'Total':\n",
    "        return print('% de Cumplimiento Total: ', df.select(F.round(F.avg('Cumplimiento'),2)).collect()[0][0])\n",
    "    \n",
    "    elif by == 'Objects':\n",
    "        obj_cump = df.select('Object','Cumplimiento').groupBy('Object').agg(F.round(F.avg('Cumplimiento'),2).alias('mean'))\n",
    "        objects = obj_cump.select('Object').rdd.flatMap(lambda x:x).collect()\n",
    "        cump = obj_cump.select('mean').rdd.flatMap(lambda x:x).collect()\n",
    "        for i,j in zip(objects, cump):\n",
    "            print('% de Cumplimiento -', i,':', j)\n",
    "            \n",
    "    elif by == 'Fields':\n",
    "        fields_cump = df.select('Campo','Cumplimiento').groupBy('Campo').agg(F.round(F.avg('Cumplimiento'),2).alias('mean'))\n",
    "        fields = fields_cump.select('Campo').rdd.flatMap(lambda x:x).collect()\n",
    "        cump = fields_cump.select('mean').rdd.flatMap(lambda x:x).collect()\n",
    "        for i,j in zip(fields, cump):\n",
    "            print('% de Cumplimiento -', i,':', j)"
   ]
  },
  {
   "cell_type": "markdown",
   "metadata": {},
   "source": [
    "### Export Report"
   ]
  },
  {
   "cell_type": "code",
   "execution_count": 5,
   "metadata": {},
   "outputs": [],
   "source": [
    "def export_report(reporte_df: pd.DataFrame):\n",
    "    reporte_df.toPandas().to_csv(str(date.today())+'-quality_results'+'.csv', index = False)"
   ]
  },
  {
   "cell_type": "markdown",
   "metadata": {},
   "source": [
    "## Quality Rules"
   ]
  },
  {
   "cell_type": "markdown",
   "metadata": {},
   "source": [
    "### 3.Validez"
   ]
  },
  {
   "cell_type": "markdown",
   "metadata": {},
   "source": [
    "#### __3.1__ "
   ]
  },
  {
   "cell_type": "markdown",
   "metadata": {},
   "source": [
    "__V_3_1__ = Comprobación del valor de dato nulo (valor NULL o vacío)"
   ]
  },
  {
   "cell_type": "code",
   "execution_count": 6,
   "metadata": {},
   "outputs": [],
   "source": [
    "def V_3_1(df: pd.DataFrame ,field: str, save_results = 'n', reporte =[], show_results = 'n', rule_type = '3.1') -> dict:\n",
    "    \n",
    "    Pob = df.count()\n",
    "    Errores_df = df.select(field).filter(F.col(field).isNull())\n",
    "    Errores = Errores_df.count()\n",
    "    Cumplimiento = ((Pob - Errores)/Pob)*100\n",
    "    Resultados = {'Tipo_Regla': rule_type, 'Campo' : field,'Campo_secundario' : '-', 'Object':[x for x in globals() if globals()[x] is df][0],'Poblacion': Pob, 'Errores': Errores, 'Cumplimiento': Cumplimiento}\n",
    "    \n",
    "    if (save_results == 'y') & (show_results == 'y'):\n",
    "        reporte.append( Resultados )\n",
    "        return reporte\n",
    "    \n",
    "    elif (save_results == 'y') & (show_results == 'n'):\n",
    "        reporte.append( Resultados )\n",
    "    \n",
    "    elif (save_results == 'n') & (show_results == 'y'):        \n",
    "        return Resultados"
   ]
  },
  {
   "cell_type": "markdown",
   "metadata": {},
   "source": [
    "#### __3.2__"
   ]
  },
  {
   "cell_type": "markdown",
   "metadata": {},
   "source": [
    "__(3.2) - V_3_2__ = Comprobación del formato del campo (Tipo de dato y Formato)"
   ]
  },
  {
   "cell_type": "code",
   "execution_count": 7,
   "metadata": {},
   "outputs": [],
   "source": [
    "def V_3_2(df: pd.DataFrame , field: str, dtype_expected: str, save_results = 'n', reporte = [], show_results = 'n', rule_type = '3.2') -> dict:\n",
    "    \n",
    "    Pob = 1\n",
    "    real_dtype = df.select(field).dtypes[0][1]\n",
    "    \n",
    "    if real_dtype == dtype_expected:\n",
    "        Errores = 0\n",
    "    else:\n",
    "        Errores = 1\n",
    "    Cumplimiento = ((Pob - Errores)/Pob)*100\n",
    "    \n",
    "    Resultados = {'Tipo_Regla': rule_type, 'Campo' : field,'Campo_secundario' : '-', 'Object':[x for x in globals() if globals()[x] is df][0],'Poblacion': Pob, 'Errores': Errores, 'Cumplimiento': Cumplimiento}\n",
    "    \n",
    "    if (save_results == 'y') & (show_results == 'y'):\n",
    "        reporte.append(Resultados)\n",
    "        return reporte\n",
    "    \n",
    "    elif (save_results == 'y') & (show_results == 'n'):\n",
    "        reporte.append(Resultados)\n",
    "\n",
    "    elif (save_results == 'n') & (show_results == 'y'):\n",
    "        return Resultados"
   ]
  },
  {
   "cell_type": "markdown",
   "metadata": {},
   "source": [
    "#### __3.3__"
   ]
  },
  {
   "cell_type": "markdown",
   "metadata": {},
   "source": [
    "__(3.3) - V_3_3__ = Chequea valores no permitidos."
   ]
  },
  {
   "cell_type": "code",
   "execution_count": 8,
   "metadata": {},
   "outputs": [],
   "source": [
    "def V_3_3_D(df: pd.DataFrame, field: str, values: list, save_results = 'n', reporte = [], show_results = 'n', rule_type = '3.3_D') -> dict:\n",
    "    \n",
    "    Pob = df.count()\n",
    "    Errores_df =  df.select(field).filter(F.col(field).isin(values))\n",
    "    Errores = Errores_df.count()\n",
    "    Cumplimiento = round(((Pob - Errores)/Pob)*100,2)\n",
    "    Resultados = {'Tipo_Regla': rule_type, 'Campo' : field,'Campo_secundario' : '-', 'Object':[x for x in globals() if globals()[x] is df][0],'Poblacion': Pob, 'Errores': Errores, 'Cumplimiento': Cumplimiento}\n",
    "    \n",
    "    if (save_results == 'y') & (show_results == 'y'):\n",
    "        reporte.append(Resultados)\n",
    "        return Resultados\n",
    "    \n",
    "    elif (save_results == 'y') & (show_results == 'n'):\n",
    "        reporte.append(Resultados)\n",
    "        \n",
    "    elif (save_results == 'n') & (show_results == 'y'):\n",
    "        return Resultados"
   ]
  },
  {
   "cell_type": "code",
   "execution_count": 9,
   "metadata": {},
   "outputs": [],
   "source": [
    "def V_3_3_C(df: pd.DataFrame, field: str, operator: str, threshold: float, save_results = 'n', reporte = [], show_results = 'n', rule_type = '3.3_C') -> dict:\n",
    "    \n",
    "    Pob = df.count()\n",
    "    \n",
    "    if operator == '<=':\n",
    "        Errores = df.select(field).filter(F.col(field) <= threshold).count()\n",
    "    elif operator == '<':\n",
    "        Errores = df.select(field).filter(F.col(field) < threshold).count()\n",
    "    elif operator == '>':\n",
    "        Errores = df.select(field).filter(F.col(field) > threshold).count()\n",
    "    elif operator == '>=':\n",
    "        Errores = df.select(field).filter(F.col(field) >= threshold).count()\n",
    "    elif operator == '==':\n",
    "        Errores = df.select(field).filter(F.col(field) == threshold).count()\n",
    "    elif operator == '!=':\n",
    "        Errores = df.select(field).filter(F.col(field) != threshold).count()\n",
    "    \n",
    "    Cumplimiento = round(((Pob - Errores)/Pob)*100,2)\n",
    "    Resultados = {'Tipo_Regla': rule_type, 'Campo' : field,'Campo_secundario' : '-', 'Object':[x for x in globals() if globals()[x] is df][0],'Poblacion': Pob, 'Errores': Errores, 'Cumplimiento': Cumplimiento}\n",
    "    \n",
    "    if (save_results == 'y') & (show_results == 'y'):\n",
    "        reporte.append(Resultados)\n",
    "        return reporte\n",
    "    \n",
    "    elif (save_results == 'y') & (show_results == 'n'):\n",
    "        reporte.append(Resultados)\n",
    "        \n",
    "    elif (save_results == 'n') & (show_results == 'y'):\n",
    "        return Resultados"
   ]
  },
  {
   "cell_type": "markdown",
   "metadata": {},
   "source": [
    "#### __3.4__"
   ]
  },
  {
   "cell_type": "markdown",
   "metadata": {},
   "source": [
    "__(3.4) - V_3_4__ = (Sólo para numéricas) Comprobación del valor del dato dentro del rango esperado (valor entre un rango)."
   ]
  },
  {
   "cell_type": "code",
   "execution_count": 10,
   "metadata": {},
   "outputs": [],
   "source": [
    "def V_3_4(df: pd.DataFrame, field: str, min_value: float, max_value: float, save_results = 'n', reporte = [], show_results = 'n', rule_type = '3.4') -> dict:\n",
    "    \n",
    "    Pob = df.count()\n",
    "    Errores = df.select(field).filter( (F.col(field) < min_value) | (F.col(field) > max_value) ).count()\n",
    "    Cumplimiento = round(((Pob - Errores)/Pob)*100,2)\n",
    "    Resultados = {'Tipo_Regla': rule_type, 'Campo' : field,'Campo_secundario' : '-', 'Object':[x for x in globals() if globals()[x] is df][0],'Poblacion': Pob, 'Errores': Errores, 'Cumplimiento': Cumplimiento}\n",
    "    \n",
    "    if (save_results == 'y') & (show_results == 'y'):\n",
    "        reporte.append(Resultados)\n",
    "        return reporte\n",
    "    elif (save_results == 'y') & (show_results == 'n'):\n",
    "        reporte.append(Resultados)\n",
    "    elif (save_results == 'n') & (show_results == 'y'):\n",
    "        return Resultados"
   ]
  },
  {
   "cell_type": "markdown",
   "metadata": {},
   "source": [
    "#### __3.5__"
   ]
  },
  {
   "cell_type": "markdown",
   "metadata": {},
   "source": [
    "__(3.5) - V_3_5_E__ = Esta función chequea valores dentro de un catálogo estático (E). El catalogo estatico solo tiene 2 valores posibles que se deben pasar como lista."
   ]
  },
  {
   "cell_type": "code",
   "execution_count": 11,
   "metadata": {},
   "outputs": [],
   "source": [
    "def V_3_5_E(df: pd.DataFrame, field: str, values: list, save_results = 'n', reporte = [], show_results = 'n', rule_type = '3.5_E') -> dict:\n",
    "    \n",
    "    Pob = df.count() \n",
    "    Errores = df.select(field).filter(~F.col(field).isin(values)).count()\n",
    "    Cumplimiento = round(((Pob - Errores)/Pob)*100,2)\n",
    "    Resultados = {'Tipo_Regla': rule_type, 'Campo' : field,'Campo_secundario' : '-', 'Object':[x for x in globals() if globals()[x] is df][0],'Poblacion': Pob, 'Errores': Errores, 'Cumplimiento': Cumplimiento}\n",
    "    \n",
    "    if (save_results == 'y') & (show_results == 'y'):\n",
    "        reporte.append(Resultados)\n",
    "        return reporte\n",
    "    \n",
    "    elif (save_results == 'y') & (show_results == 'n'):\n",
    "        reporte.append(Resultados)\n",
    "        \n",
    "    elif (save_results == 'n') & (show_results == 'y'):\n",
    "        return Resultados"
   ]
  },
  {
   "cell_type": "markdown",
   "metadata": {},
   "source": [
    "__(3.5) - V_3_5_D__ = Esta función chequea valores dentro de un catálogo dinámico (D) (Muchos valores)"
   ]
  },
  {
   "cell_type": "code",
   "execution_count": 12,
   "metadata": {},
   "outputs": [],
   "source": [
    "def V_3_5_D(df: pd.DataFrame, field: str, catalog_path, catalog_cd, save_results = 'n', reporte = [], show_results = 'n', rule_type = '3.5_D') -> dict:\n",
    "    \n",
    "    Pob = df.count()\n",
    "    catalog_values = (dataproc.read().parquet(catalog_path).filter(F.col('g_catalog_id') == catalog_cd)\n",
    "                      .select('gf_catalog_val_id')\n",
    "                      .distinct()\n",
    "                      .rdd.flatMap(lambda x:x)\n",
    "                      .collect())\n",
    "    Errores = df.select(field).filter(~F.col(field).isin(catalog_values)).count()\n",
    "    Cumplimiento = round(((Pob - Errores)/Pob)*100,2)\n",
    "    Resultados = {'Tipo_Regla': rule_type, 'Campo' : field,'Campo_secundario' : 'gf_catalog_val_id', 'Object':[x for x in globals() if globals()[x] is df][0],'Poblacion': Pob, 'Errores': Errores, 'Cumplimiento': Cumplimiento}\n",
    "    \n",
    "    if (save_results == 'y') & (show_results == 'y'):\n",
    "        reporte.append(Resultados)\n",
    "        return reporte\n",
    "    \n",
    "    elif (save_results == 'y') & (show_results == 'n'):\n",
    "        reporte.append(Resultados)\n",
    "        \n",
    "    elif (save_results == 'n') & (show_results == 'y'):\n",
    "        return Resultados"
   ]
  },
  {
   "cell_type": "markdown",
   "metadata": {},
   "source": [
    "#### __3.6__"
   ]
  },
  {
   "cell_type": "markdown",
   "metadata": {},
   "source": [
    "__(3.6) - V_3_6__ = Controla que no haya whitespaces."
   ]
  },
  {
   "cell_type": "code",
   "execution_count": 13,
   "metadata": {},
   "outputs": [],
   "source": [
    "def V_3_6(df: pd.DataFrame ,field: str, save_results = 'n', reporte = [], show_results = 'n', rule_type = '3.6') -> dict:\n",
    "    \n",
    "    Pob = df.count()\n",
    "    Errores = df.select(field).withColumn('blanks', F.length(F.regexp_replace(field, '[^ ]+', ''))).filter(F.col('blanks')!= 0).count()\n",
    "    Cumplimiento = ((Pob - Errores)/Pob)*100\n",
    "    Resultados = {'Tipo_Regla': rule_type, 'Campo' : field,'Campo_secundario' : '-', 'Object':[x for x in globals() if globals()[x] is df][0],'Poblacion': Pob, 'Errores': Errores, 'Cumplimiento': Cumplimiento}\n",
    "    \n",
    "    if (save_results == 'y') & (show_results == 'y'):\n",
    "        reporte.append(Resultados)\n",
    "        return reporte\n",
    "    \n",
    "    elif (save_results == 'y') & (show_results == 'n'):\n",
    "        reporte.append(Resultados)\n",
    "        \n",
    "    elif (save_results == 'n') & (show_results == 'y'):\n",
    "        return Resultados"
   ]
  },
  {
   "cell_type": "markdown",
   "metadata": {},
   "source": [
    "### 4.Consistencia"
   ]
  },
  {
   "cell_type": "markdown",
   "metadata": {},
   "source": [
    "#### __4.2__"
   ]
  },
  {
   "cell_type": "markdown",
   "metadata": {},
   "source": [
    "__C_4_2__ = Duplicidad de registros para un mismo dato (Duplicados, triplicados, etc)"
   ]
  },
  {
   "cell_type": "code",
   "execution_count": 14,
   "metadata": {},
   "outputs": [],
   "source": [
    "def C_4_2(df: pd.DataFrame, field: str, save_results = 'n', reporte = [], show_results = 'n', rule_type = '4.2') -> dict:\n",
    "    \n",
    "    Pob = df.count()\n",
    "    Errores = df.select(field).groupBy(field).count().withColumn('errores',F.col('count')-1).select(F.sum('errores')).collect()[0][0]\n",
    "    Cumplimiento = round(((Pob - Errores)/Pob)*100,2)\n",
    "    Resultados = {'Tipo_Regla': rule_type, 'Campo' : field,'Campo_secundario' : '-', 'Object':[x for x in globals() if globals()[x] is df][0],'Poblacion': Pob, 'Errores': Errores, 'Cumplimiento': Cumplimiento}\n",
    "    \n",
    "    if (save_results == 'y') & (show_results == 'y'):\n",
    "        reporte.append(Resultados)\n",
    "        return reporte\n",
    "    \n",
    "    elif (save_results == 'y') & (show_results == 'n'):\n",
    "        reporte.append(Resultados)\n",
    "        \n",
    "    elif (save_results == 'n') & (show_results == 'y'):\n",
    "        return Resultados"
   ]
  },
  {
   "cell_type": "markdown",
   "metadata": {},
   "source": [
    "#### __4.3__"
   ]
  },
  {
   "cell_type": "markdown",
   "metadata": {},
   "source": [
    "__C_4_3__ = Conciliación de un mismo dato entre diferentes tablas/repositorios en el mismo momento de tiempo (Conciliación contable/Integridad referencial)"
   ]
  },
  {
   "cell_type": "code",
   "execution_count": 15,
   "metadata": {},
   "outputs": [],
   "source": [
    "def C_4_3(df1: pd.DataFrame, key1: str, field1: str , df2: pd.DataFrame, key2: str, field2: str, save_results = 'n', reporte = [], show_results = 'n', rule_type = '4.3') -> dict:\n",
    "    \n",
    "    df1_values = df1.select(key1, field1).withColumnRenamed(key1, key1+'_1').withColumnRenamed(field1, field1+'_1')\n",
    "    df2_values = df2.select(key2, field2).withColumnRenamed(key2, key2+'_2').withColumnRenamed(field2, field2+'_2')\n",
    "    df = df1_values.join(df2_values, how = 'inner', on = [df1_values[0] == df2_values[0]] )\n",
    "\n",
    "    Pob = df.count()\n",
    "    Errores = (df.filter( F.col(field1+'_1') != F.col(field1+'_2')).count())\n",
    "    Cumplimiento = round(((Pob - Errores)/Pob)*100,2)\n",
    "    Resultados = {'Tipo_Regla': rule_type, 'Campo' : field1,'Campo_secundario' : field2, 'Object':[x for x in globals() if globals()[x] is df1][0] + ' & ' + [x for x in globals() if globals()[x] is df2][0],'Poblacion': Pob, 'Errores': Errores, 'Cumplimiento': Cumplimiento}\n",
    "\n",
    "    if (save_results == 'y') & (show_results == 'y'):\n",
    "        reporte.append(Resultados)\n",
    "        return reporte\n",
    "    \n",
    "    elif (save_results == 'y') & (show_results == 'n'):\n",
    "        reporte.append(Resultados)\n",
    "        \n",
    "    elif (save_results == 'n') & (show_results == 'y'):\n",
    "        return Resultados"
   ]
  },
  {
   "cell_type": "markdown",
   "metadata": {},
   "source": [
    "### 5.Integridad"
   ]
  },
  {
   "cell_type": "markdown",
   "metadata": {},
   "source": [
    "#### __5.2__"
   ]
  },
  {
   "cell_type": "markdown",
   "metadata": {},
   "source": [
    "__5.2__ = Comparativa entre diferentes valores de datos relacionados entre sí (datos en objetos distintos): Comparación lógica entre dos campos o expresiones entre diferentes objetos."
   ]
  },
  {
   "cell_type": "code",
   "execution_count": 16,
   "metadata": {},
   "outputs": [],
   "source": [
    "def I_5_2(df1: pd.DataFrame, key1: str, field1: str, df2: pd.DataFrame, key2: str, field2: str, operator: str, save_results = 'n', reporte = [], show_results = 'n', rule_type = '5.2') -> dict:\n",
    "    \n",
    "    df1_values = df1.select(key1, field1).withColumnRenamed(key1, key1+'_1')\n",
    "    df2_values = df2.select(key2, field2).withColumnRenamed(key2, key2+'_2')\n",
    "    df = df1_values.join(df2_values, how = 'inner', on = [df1_values[0] == df2_values[0]] )\n",
    "    \n",
    "    Pob = df.count()\n",
    "        \n",
    "    if operator == '<=':\n",
    "        Errores = df.select(field1,field2).filter(F.col(field1) <= F.col(field2)).count()\n",
    "    elif operator == '<':\n",
    "        Errores = df.select(field1,field2).filter(F.col(field1) < F.col(field2)).count()\n",
    "    elif operator == '>':\n",
    "        Errores = df.select(field1,field2).filter(F.col(field1) > F.col(field2)).count()\n",
    "    elif operator == '>=':\n",
    "        Errores = df.select(field1,field2).filter(F.col(field1) >= F.col(field2)).count()\n",
    "    \n",
    "    Cumplimiento = round(((Pob - Errores)/Pob)*100,2)\n",
    "    Resultados = {'Tipo_Regla': rule_type, 'Campo' : field1,'Campo_secundario' : field2, 'Object':[x for x in globals() if globals()[x] is df1][0] + ' & ' + [x for x in globals() if globals()[x] is df2][0],'Poblacion': Pob, 'Errores': Errores, 'Cumplimiento': Cumplimiento}\n",
    "    \n",
    "    if (save_results == 'y') & (show_results == 'y'):\n",
    "        reporte.append(Resultados)\n",
    "        return reporte\n",
    "    \n",
    "    elif (save_results == 'y') & (show_results == 'n'):\n",
    "        reporte.append(Resultados)\n",
    "        \n",
    "    elif (save_results == 'n') & (show_results == 'y'):\n",
    "        return Resultados"
   ]
  },
  {
   "cell_type": "markdown",
   "metadata": {},
   "source": [
    "#### __5.3__"
   ]
  },
  {
   "cell_type": "markdown",
   "metadata": {},
   "source": [
    "__(5.3) - I_5_3__ = Comparativa entre diferentes valores de datos relacionados entre sí (datos en mismo objeto): Comparación lógica entre dos campos o expresiones en el mismo objeto."
   ]
  },
  {
   "cell_type": "code",
   "execution_count": 17,
   "metadata": {},
   "outputs": [],
   "source": [
    "def I_5_3(df: pd.DataFrame, field1: str, operator: str, field2: str,save_results = 'n', reporte = [], show_results = 'n', rule_type = '5.3') -> dict:\n",
    "    \n",
    "    Pob = df.count()\n",
    "    \n",
    "    if operator == '<=':\n",
    "        Errores = df.select(field1,field2).filter(F.col(field1) <= F.col(field2)).count()\n",
    "    elif operator == '<':\n",
    "        Errores = df.select(field1,field2).filter(F.col(field1) < F.col(field2)).count()\n",
    "    elif operator == '>':\n",
    "        Errores = df.select(field1,field2).filter(F.col(field1) > F.col(field2)).count()\n",
    "    elif operator == '>=':\n",
    "        Errores = df.select(field1,field2).filter(F.col(field1) >= F.col(field2)).count()\n",
    "    \n",
    "    Cumplimiento = round(((Pob - Errores)/Pob)*100,2)\n",
    "    Resultados = {'Tipo_Regla': rule_type, 'Campo' : field1,'Campo_secundario' : field2, 'Object':[x for x in globals() if globals()[x] is df][0],'Poblacion': Pob, 'Errores': Errores, 'Cumplimiento': Cumplimiento}\n",
    "    \n",
    "    if (save_results == 'y') & (show_results == 'y'):\n",
    "        reporte.append(Resultados)\n",
    "        return reporte\n",
    "    \n",
    "    elif (save_results == 'y') & (show_results == 'n'):\n",
    "        reporte.append(Resultados)\n",
    "        \n",
    "    elif (save_results == 'n') & (show_results == 'y'):\n",
    "        return Resultados"
   ]
  },
  {
   "cell_type": "markdown",
   "metadata": {},
   "source": [
    "### 6.Precision"
   ]
  },
  {
   "cell_type": "markdown",
   "metadata": {},
   "source": [
    "#### __6.1__"
   ]
  },
  {
   "cell_type": "markdown",
   "metadata": {},
   "source": [
    "__6.1__ = Concentración valores contra catálogo."
   ]
  },
  {
   "cell_type": "code",
   "execution_count": 18,
   "metadata": {},
   "outputs": [],
   "source": [
    "def P_6_1(df: pd.DataFrame, field: str, operator: str, threshold: float, catalog_df: pd.DataFrame, catalog_cd, save_results = 'n', reporte = [], show_results = 'n', rule_type = '6.1') -> dict:\n",
    "    \n",
    "    catalog_values = (catalog_df.filter(F.col('g_catalog_id') == catalog_cd)\n",
    "                      .select('gf_catalog_val_id')\n",
    "                      .distinct()\n",
    "                      .rdd.flatMap(lambda x:x)\n",
    "                      .collect() )\n",
    "    \n",
    "    df_tmp = (df.select(field)\n",
    "          .filter(F.col(field).isin(catalog_values))\n",
    "          .groupBy(field).agg(F.count('*').alias('Q')))\n",
    "    tmp_val = df_tmp.select(F.sum('Q')).collect()[0][0]\n",
    "    df_tmp1 = (df_tmp.withColumn('Total', F.lit(tmp_val))\n",
    "          .withColumn('Perc', F.round( F.col('Q') / F.col('Total') *100,3))\n",
    "          .withColumn('Umbral', F.lit(threshold)))\n",
    "    \n",
    "    Pob = df_tmp1.count()\n",
    "    \n",
    "    if operator == '<=':\n",
    "        Errores = df_tmp1.filter(F.col('Perc') <= F.col('Umbral')).count()\n",
    "    elif operator == '<':\n",
    "        Errores = df_tmp1.filter(F.col('Perc') < F.col('Umbral')).count()\n",
    "    elif operator == '>':\n",
    "        Errores = df_tmp1.filter(F.col('Perc') > F.col('Umbral')).count()\n",
    "    elif operator == '>=':\n",
    "        Errores = df_tmp1.filter(F.col('Perc') >= F.col('Umbral')).count()\n",
    "    \n",
    "    Cumplimiento = round(((Pob - Errores)/Pob)*100,2)\n",
    "    Resultados = {'Tipo_Regla': rule_type, 'Campo' : field,'Campo_secundario' : 'gf_catalog_val_id' , 'Object':[x for x in globals() if globals()[x] is df][0],'Poblacion': Pob, 'Errores': Errores, 'Cumplimiento': Cumplimiento}\n",
    "\n",
    "    if (save_results == 'y') & (show_results == 'y'):\n",
    "        reporte.append(Resultados)\n",
    "        return reporte\n",
    "    \n",
    "    elif (save_results == 'y') & (show_results == 'n'):\n",
    "        reporte.append(Resultados)\n",
    "        \n",
    "    elif (save_results == 'n') & (show_results == 'y'):\n",
    "        return Resultados"
   ]
  },
  {
   "cell_type": "markdown",
   "metadata": {},
   "source": [
    "#### __6.2__"
   ]
  },
  {
   "cell_type": "markdown",
   "metadata": {},
   "source": [
    "__P_6_2__ = Comprobación de la sensibilidad del valor de un dato a un umbral (Valor contra umbral) Para agregaciones."
   ]
  },
  {
   "cell_type": "code",
   "execution_count": 19,
   "metadata": {},
   "outputs": [],
   "source": [
    "def P_6_2(df: pd.DataFrame, field1: str, agg_type, operator: str, threshold: float, save_results = 'n', reporte = [], show_results = 'n', rule_type = '6.2') -> dict:\n",
    "    \"\"\"P_6_2 = Compara contra un umbral \"\"\"\n",
    "    \n",
    "    df_grp = df.select(field1).groupBy(field1).agg(agg_type(field1))\n",
    "    \n",
    "    Pob = df_grp.count()\n",
    "    \n",
    "    if operator == '<=':\n",
    "        Errores = df_grp.filter(F.col(df_grp.columns[1]) <= threshold).count()\n",
    "    elif operator == '<':\n",
    "        Errores = df_grp.filter(F.col(df_grp.columns[1]) < threshold).count()\n",
    "    elif operator == '>':\n",
    "        Errores = df_grp.filter(F.col(df_grp.columns[1]) > threshold).count()\n",
    "    elif operator == '>=':\n",
    "        Errores = df_grp.filter(F.col(df_grp.columns[1]) >= threshold).count()\n",
    "    \n",
    "    Cumplimiento = round(((Pob - Errores)/Pob)*100,2)\n",
    "    Resultados = {'Tipo_Regla': rule_type, 'Campo' : field1,'Campo_secundario' : '-' , 'Object':[x for x in globals() if globals()[x] is df][0],'Poblacion': Pob, 'Errores': Errores, 'Cumplimiento': Cumplimiento}\n",
    "    \n",
    "    if (save_results == 'y') & (show_results == 'y'):\n",
    "        reporte.append(Resultados)\n",
    "        return reporte\n",
    "    elif (save_results == 'y') & (show_results == 'n'):\n",
    "        reporte.append(Resultados)\n",
    "    elif (save_results == 'n') & (show_results == 'y'):\n",
    "        return Resultados"
   ]
  },
  {
   "cell_type": "markdown",
   "metadata": {},
   "source": [
    "#### __6.4__"
   ]
  },
  {
   "cell_type": "markdown",
   "metadata": {},
   "source": [
    "__P_6_4__ = Comprobación de la sensibilidad del valor de un dato a un umbral (Valor contra umbral) Sin agregaciones."
   ]
  },
  {
   "cell_type": "code",
   "execution_count": 20,
   "metadata": {},
   "outputs": [],
   "source": [
    "def P_6_4(df: pd.DataFrame, date_field: str, categorical_field: str, amount_field:str, operator:str, threshold: float, save_results = 'n', reporte = [], show_results = 'n', rule_type = '6.4') -> dict:\n",
    "    \"\"\"P_6_4 = Compara contra un umbral \"\"\"\n",
    "\n",
    "    windowSpec = Window.partitionBy(categorical_field).orderBy(date_field)\n",
    "    \n",
    "    if operator == '>=':    \n",
    "        df_grp = (df\n",
    "         .select(date_field,categorical_field,amount_field)\n",
    "         .withColumn('previus_value',F.lag(amount_field,1).over(windowSpec))\n",
    "         .filter(~F.col('previus_value').isNull())\n",
    "         .withColumn('Var', F.abs((F.col(amount_field) - F.col('previus_value')) / F.col(amount_field) *100))\n",
    "         .withColumn('parametro', F.lit(threshold))\n",
    "         .withColumn('status', F.when(F.col('Var') >= F.col('parametro'), 1).otherwise(0)))\n",
    "        \n",
    "    elif operator == '<=':\n",
    "        df_grp = (df\n",
    "                  .select(date_field,categorical_field,amount_field)\n",
    "                  .withColumn('previus_value',F.lag(amount_field,1).over(windowSpec))\n",
    "                  .filter(~F.col('previus_value').isNull())\n",
    "                  .withColumn('Var', F.abs((F.col(amount_field) - F.col('previus_value')) / F.col(amount_field) *100))\n",
    "                  .withColumn('parametro', F.lit(threshold))\n",
    "                  .withColumn('status', F.when(F.col('Var') <= F.col('parametro'), 1).otherwise(0)))\n",
    "    \n",
    "    Pob = df_grp.count()\n",
    "    Errores = df_grp.filter(F.col('status') == 1).count()\n",
    "    Cumplimiento = round(((Pob - Errores)/Pob)*100,2)\n",
    "    Resultados = {'Tipo_Regla': rule_type, 'Campo' : amount_field,'Campo_secundario' : categorical_field , 'Object':[x for x in globals() if globals()[x] is df][0],'Poblacion': Pob, 'Errores': Errores, 'Cumplimiento': Cumplimiento}\n",
    "    \n",
    "    if (save_results == 'y') & (show_results == 'y'):\n",
    "        reporte.append(Resultados)\n",
    "        return reporte\n",
    "    \n",
    "    elif (save_results == 'y') & (show_results == 'n'):\n",
    "        reporte.append(Resultados)\n",
    "        \n",
    "    elif (save_results == 'n') & (show_results == 'y'):\n",
    "        return Resultados"
   ]
  },
  {
   "cell_type": "markdown",
   "metadata": {},
   "source": [
    "__P_6_4_GRP__ = Comprobación de la sensibilidad del valor de un dato a un umbral (Valor contra umbral) Para agregaciones."
   ]
  },
  {
   "cell_type": "code",
   "execution_count": 21,
   "metadata": {},
   "outputs": [],
   "source": [
    "def P_6_4_GRP(df: pd.DataFrame, date_field: str, categorical_field: str, amount_field:str, agg_type: str, operator:str, threshold: float, save_results = 'n', reporte = [], show_results = 'n', rule_type = '6.4_GRP') -> dict:\n",
    "    \"\"\"P_6_4 = Compara contra un umbral \"\"\"\n",
    "\n",
    "    windowSpec = Window.partitionBy(categorical_field).orderBy(date_field)\n",
    "    \n",
    "    if operator == '>=':    \n",
    "        df_grp = (df\n",
    "         .select(date_field,categorical_field,amount_field)\n",
    "         .groupBy(date_field,categorical_field).agg(agg_type(amount_field).alias(amount_field+'_grp'))\n",
    "         .withColumn('previus_value',F.lag(amount_field+'_grp',1).over(windowSpec))\n",
    "         .filter(~F.col('previus_value').isNull())\n",
    "         .withColumn('Var', F.abs((F.col(amount_field+'_grp') - F.col('previus_value')) / F.col(amount_field+'_grp') *100))\n",
    "         .withColumn('parametro', F.lit(threshold))\n",
    "         .withColumn('status', F.when(F.col('Var') >= F.col('parametro'), 1).otherwise(0)))\n",
    "        \n",
    "    elif operator == '<=':\n",
    "        df_grp = (df\n",
    "                  .select(date_field,categorical_field,amount_field)\n",
    "                  .groupBy(date_field,categorical_field).agg(agg_type(amount_field).alias(amount_field+'_grp'))\n",
    "                  .withColumn('previus_value',F.lag(amount_field+'_grp',1).over(windowSpec))\n",
    "                  .filter(~F.col('previus_value').isNull())\n",
    "                  .withColumn('Var', F.abs((F.col(amount_field+'_grp') - F.col('previus_value')) / F.col(amount_field+'_grp') *100))\n",
    "                  .withColumn('parametro', F.lit(threshold))\n",
    "                  .withColumn('status', F.when(F.col('Var') <= F.col('parametro'), 1).otherwise(0)))\n",
    "    \n",
    "    Pob = df_grp.count()\n",
    "    Errores = df_grp.filter(F.col('status') == 1).count()\n",
    "    Cumplimiento = round(((Pob - Errores)/Pob)*100,2)\n",
    "    Resultados = {'Tipo_Regla': rule_type, 'Campo' : amount_field,'Campo_secundario' : categorical_field , 'Object':[x for x in globals() if globals()[x] is df][0],'Poblacion': Pob, 'Errores': Errores, 'Cumplimiento': Cumplimiento}\n",
    "    \n",
    "    if (save_results == 'y') & (show_results == 'y'):\n",
    "        reporte.append(Resultados)\n",
    "        return reporte\n",
    "    \n",
    "    elif (save_results == 'y') & (show_results == 'n'):\n",
    "        reporte.append(Resultados)\n",
    "        \n",
    "    elif (save_results == 'n') & (show_results == 'y'):\n",
    "        return Resultados"
   ]
  }
 ],
 "metadata": {
  "kernelspec": {
   "display_name": "spark-python",
   "language": "python",
   "name": "spark-python-spark-python"
  },
  "language_info": {
   "codemirror_mode": {
    "name": "ipython",
    "version": 3
   },
   "file_extension": ".py",
   "mimetype": "text/x-python",
   "name": "python",
   "nbconvert_exporter": "python",
   "pygments_lexer": "ipython3",
   "version": "3.9.7"
  }
 },
 "nbformat": 4,
 "nbformat_minor": 4
}
